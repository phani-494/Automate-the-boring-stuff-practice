{
 "cells": [
  {
   "cell_type": "markdown",
   "id": "c5bfb1da",
   "metadata": {},
   "source": [
    "## PART I\n",
    "### PYTHON PROGRAMMING BASICS\n",
    "\n"
   ]
  },
  {
   "cell_type": "markdown",
   "id": "c710829c",
   "metadata": {},
   "source": [
    "# Chapter 1\n",
    "## Python Basics"
   ]
  },
  {
   "cell_type": "markdown",
   "id": "cb0c180f",
   "metadata": {},
   "source": [
    "1. The Python programming language has a wide range of syntactical constructions, standard library functions, and interactive development environment features.\n",
    "2. Interactive shell, also called the REPL (Read-Evaluate-Print Loop), which lets you run (or execute) Python instructions one at a time and instantly shows you the results. "
   ]
  },
  {
   "cell_type": "code",
   "execution_count": 1,
   "id": "559b39bd",
   "metadata": {},
   "outputs": [
    {
     "data": {
      "text/plain": [
       "4"
      ]
     },
     "execution_count": 1,
     "metadata": {},
     "output_type": "execute_result"
    }
   ],
   "source": [
    "# // Integer division/floored quotient 22 // 8 2\n",
    "22//5"
   ]
  },
  {
   "cell_type": "code",
   "execution_count": 2,
   "id": "b544b32d",
   "metadata": {},
   "outputs": [
    {
     "data": {
      "text/plain": [
       "-7"
      ]
     },
     "execution_count": 2,
     "metadata": {},
     "output_type": "execute_result"
    }
   ],
   "source": [
    "2+-9 # gives -7\n",
    "# why ... think because the interpreter treats it as 2+(-9) which means -9 is a integer and + is an operator"
   ]
  },
  {
   "cell_type": "markdown",
   "id": "ddd69840",
   "metadata": {},
   "source": [
    "1. A data type is a category for values, and every value belongs to exactly one data type.\n",
    "2. Always surround your string in single quote (') characters (as in 'Hello' or 'Goodbye cruel world!') so Python knows where the string begins and ends.\n",
    "3. The meaning of an operator may change based on the data types of the values next to it. \n",
    "4. For example, + is the addition operator when it operates on two integers or floating-point values. However, when + is used on two string values, it joins the strings as the string concatenation operator"
   ]
  },
  {
   "cell_type": "code",
   "execution_count": null,
   "id": "3f93938f",
   "metadata": {},
   "outputs": [],
   "source": [
    "# The * operator multiplies two integer or floating-point values.\n",
    "# But when the * operator is used on one string value and one integer value, it becomes the string replication operator"
   ]
  },
  {
   "cell_type": "code",
   "execution_count": 3,
   "id": "0ad626e4",
   "metadata": {},
   "outputs": [
    {
     "data": {
      "text/plain": [
       "'AliceAliceAliceAliceAliceAliceAliceAliceAliceAlice'"
      ]
     },
     "execution_count": 3,
     "metadata": {},
     "output_type": "execute_result"
    }
   ],
   "source": [
    "\"Alice\"*10 # string replication"
   ]
  },
  {
   "cell_type": "markdown",
   "id": "de0fbddf",
   "metadata": {},
   "source": [
    "***Variable names are case-sensitive, meaning that spam, SPAM, Spam, and sPaM are four different variables."
   ]
  },
  {
   "cell_type": "markdown",
   "id": "3f8ac525",
   "metadata": {},
   "source": [
    "## Storing Values in Variables\n",
    "1. A variable is like a box in the computer’s memory where you can store a single value. \n",
    "2. If you want to use the result of an evaluated expression later in your program, you can save it inside a variable.\n",
    "## Assignment Statements\n",
    "3. You’ll store values in variables with an assignment statement.\n",
    "4. An assignment statement consists of a variable name, an equal sign (called the assignment operator), and the value to be stored. \n",
    "5. If you enter the assignment statement spam = 42, then a variable named spam will have the integer value 42 stored in it.\n",
    "6. Think of a variable as a labeled box that a value is placed in it"
   ]
  },
  {
   "cell_type": "markdown",
   "id": "305964ff",
   "metadata": {},
   "source": [
    "## Comments\n",
    "1. Python ignores comments, and you can use them to write notes or remind yourself what the code is trying to do.\n",
    "2. Any text for the rest of the line following a hash mark (#) is part of a comment. \n",
    "3. Sometimes, programmers will put a # in front of a line of code to temporarily remove it while testing a program. \n",
    "4. This is called commenting out code, and it can be useful when you’re trying to figure out why a program isn’t working.\n",
    "5. You can remove the # later when you are ready to put the line back in."
   ]
  },
  {
   "cell_type": "raw",
   "id": "1306b4a9",
   "metadata": {},
   "source": [
    "You can also use print() function to put a blank line on the screen; just call print()with nothing in between the parentheses.\n",
    "When you write a function name, the opening and closing parentheses at the end identify it as the name of a function."
   ]
  },
  {
   "cell_type": "markdown",
   "id": "81c8d19c",
   "metadata": {},
   "source": [
    "## The input() Function\n",
    "The input() function waits for the user to type some text on the keyboard and press enter. "
   ]
  },
  {
   "cell_type": "markdown",
   "id": "e53879a0",
   "metadata": {},
   "source": [
    "## The len() Function\n",
    "1. You can pass the len() function a string value (or a variable containing a string), and the function evaluates to the integer value of the number of characters in that string. \n",
    "\n",
    "print('The length of your name is:')\n",
    "\n",
    "print(len(myName))\n"
   ]
  },
  {
   "cell_type": "code",
   "execution_count": 1,
   "id": "a66495ad",
   "metadata": {},
   "outputs": [
    {
     "name": "stdout",
     "output_type": "stream",
     "text": [
      "10\n"
     ]
    }
   ],
   "source": [
    "num=9087534567\n",
    "print(len(str(num))) # total 10 digits are present in it."
   ]
  },
  {
   "cell_type": "code",
   "execution_count": 2,
   "id": "c74970be",
   "metadata": {},
   "outputs": [
    {
     "ename": "TypeError",
     "evalue": "object of type 'int' has no len()",
     "output_type": "error",
     "traceback": [
      "\u001b[1;31m---------------------------------------------------------------------------\u001b[0m",
      "\u001b[1;31mTypeError\u001b[0m                                 Traceback (most recent call last)",
      "\u001b[1;32m~\\AppData\\Local\\Temp\\ipykernel_4588\\2208120462.py\u001b[0m in \u001b[0;36m<module>\u001b[1;34m\u001b[0m\n\u001b[1;32m----> 1\u001b[1;33m \u001b[0mlen\u001b[0m\u001b[1;33m(\u001b[0m\u001b[0mnum\u001b[0m\u001b[1;33m)\u001b[0m\u001b[1;33m\u001b[0m\u001b[1;33m\u001b[0m\u001b[0m\n\u001b[0m",
      "\u001b[1;31mTypeError\u001b[0m: object of type 'int' has no len()"
     ]
    }
   ],
   "source": [
    "len(num) # integers doesn't support the len().\n",
    "# to find no of digits present in a number: convert the number to string using str() and apply len()as len(str(int)"
   ]
  },
  {
   "cell_type": "code",
   "execution_count": 5,
   "id": "74ef2c1f",
   "metadata": {},
   "outputs": [
    {
     "data": {
      "text/plain": [
       "0"
      ]
     },
     "execution_count": 5,
     "metadata": {},
     "output_type": "execute_result"
    }
   ],
   "source": [
    "len(\"\")"
   ]
  },
  {
   "cell_type": "markdown",
   "id": "f21521b8",
   "metadata": {},
   "source": [
    "***You can overwrite the variable string but cannot change the existing string characters since strings are immutable..."
   ]
  },
  {
   "cell_type": "markdown",
   "id": "6de518a4",
   "metadata": {},
   "source": [
    "# Chapter-2\n",
    "## Flow Control"
   ]
  },
  {
   "cell_type": "markdown",
   "id": "155f306a",
   "metadata": {},
   "source": [
    "1. A program is just a series of instructions.\n",
    "2. Based on how expressions evaluate, a program can decide to skip instructions, repeat them, or choose one of several instructions to run. \n",
    "3. In fact, you almost never want your programs to start from the first line of code and simply execute every line, straight to the end. \n",
    "4. Flow control statements can decide which Python instructions to execute under which conditions."
   ]
  },
  {
   "cell_type": "markdown",
   "id": "cb252086",
   "metadata": {},
   "source": [
    "## Boolean Operators\n",
    "1. The three Boolean operators (and, or, and not) are used to compare Boolean values. \n",
    "2. Like comparison operators, they evaluate these expressions down to a Boolean value."
   ]
  },
  {
   "cell_type": "markdown",
   "id": "9fa071cc",
   "metadata": {},
   "source": [
    "### Binary Boolean Operators\n",
    "1. The and and or operators always take two Boolean values (or expressions), so they’re considered binary operators. \n",
    "2. The and operator evaluates an expression to True if both Boolean values are True; otherwise, it evaluates to False.\n",
    "3. The or operator evaluates an expression to True if either of the two Boolean values is True. If both are False, it evaluates to False.\n",
    "4. Unlike and and or, the not operator operates on only one Boolean value (or expression). \n",
    "5. This makes it a unary operator. The not operator simply evaluates to the opposite Boolean value."
   ]
  },
  {
   "cell_type": "code",
   "execution_count": 7,
   "id": "1ed96197",
   "metadata": {},
   "outputs": [
    {
     "data": {
      "text/plain": [
       "True"
      ]
     },
     "execution_count": 7,
     "metadata": {},
     "output_type": "execute_result"
    }
   ],
   "source": [
    "True and True"
   ]
  },
  {
   "cell_type": "code",
   "execution_count": 8,
   "id": "ce8daaa5",
   "metadata": {},
   "outputs": [
    {
     "data": {
      "text/plain": [
       "False"
      ]
     },
     "execution_count": 8,
     "metadata": {},
     "output_type": "execute_result"
    }
   ],
   "source": [
    "True and False"
   ]
  },
  {
   "cell_type": "code",
   "execution_count": 9,
   "id": "2db06c06",
   "metadata": {},
   "outputs": [
    {
     "data": {
      "text/plain": [
       "True"
      ]
     },
     "execution_count": 9,
     "metadata": {},
     "output_type": "execute_result"
    }
   ],
   "source": [
    "True or False"
   ]
  },
  {
   "cell_type": "code",
   "execution_count": 10,
   "id": "c21a1e46",
   "metadata": {},
   "outputs": [
    {
     "data": {
      "text/plain": [
       "False"
      ]
     },
     "execution_count": 10,
     "metadata": {},
     "output_type": "execute_result"
    }
   ],
   "source": [
    "False or False"
   ]
  },
  {
   "cell_type": "code",
   "execution_count": 12,
   "id": "ad1e3d65",
   "metadata": {},
   "outputs": [
    {
     "data": {
      "text/plain": [
       "True"
      ]
     },
     "execution_count": 12,
     "metadata": {},
     "output_type": "execute_result"
    }
   ],
   "source": [
    "not False"
   ]
  },
  {
   "cell_type": "markdown",
   "id": "6e2b1bff",
   "metadata": {},
   "source": [
    "***Python evaluates the not operators first, then the and operators, and then the or operators."
   ]
  },
  {
   "cell_type": "markdown",
   "id": "248e1523",
   "metadata": {},
   "source": [
    "### Elements of Flow Control\n",
    "1. Flow control statements often start with a part called the condition and are always followed by a block of code called the clause.\n",
    "\n",
    "#### Conditions\n",
    "1. The Boolean expressions you’ve seen so far could all be considered conditions, which are the same thing as expressions; condition is just a more specific name in the context of flow control statements.\n",
    "2. Conditions always evaluate down to a Boolean value, True or False.\n",
    "3. A flow control statement decides what to do based on whether its condition is True or False, and almost every flow control statement uses a condition.\n",
    "\n",
    "#### Blocks of Code\n",
    "1. Lines of Python code can be grouped together in blocks.\n",
    "2. You can tell when a block begins and ends from the indentation of the lines of code. \n",
    "3. There are three rules for blocks.\n",
    "\n",
    "•\t Blocks begin when the indentation increases.\n",
    "\n",
    "•\t Blocks can contain other blocks.\n",
    "\n",
    "•\t Blocks end when the indentation decreases to zero or to a containing \n",
    "block’s indentation.\n"
   ]
  },
  {
   "cell_type": "markdown",
   "id": "7008aaa1",
   "metadata": {},
   "source": [
    "## while Loop Statements\n",
    "1. You can make a block of code execute over and over again using a while statement.\n",
    "2. The code in a while clause will be executed as long as the whilestatement’s condition is True."
   ]
  },
  {
   "cell_type": "markdown",
   "id": "51e7c1df",
   "metadata": {},
   "source": [
    "#  Annoying while loop"
   ]
  },
  {
   "cell_type": "code",
   "execution_count": 1,
   "id": "ef209ab2",
   "metadata": {},
   "outputs": [
    {
     "name": "stdout",
     "output_type": "stream",
     "text": [
      "Please type your name:\n",
      "indra\n",
      "Please type your name:\n",
      "mahesh\n",
      "Please type your name:\n",
      "dfghjk\n",
      "Please type your name:\n",
      "jhgf\n",
      "Please type your name:\n",
      "raja\n",
      "Please type your name:\n",
      "rakhi\n",
      "Please type your name:\n",
      "your name\n",
      "Thank you\n"
     ]
    }
   ],
   "source": [
    "name=''\n",
    "while name!= 'your name':\n",
    "    print('Please type your name:')\n",
    "    name=input()\n",
    "print('Thank you')"
   ]
  },
  {
   "cell_type": "markdown",
   "id": "ddcce79d",
   "metadata": {},
   "source": [
    "## continue Statements\n",
    "1. Like break statements, continue statements are used inside loops.\n",
    "2. When the program execution reaches a continue statement, the program execution immediately jumps back to the start of the loop and re-evaluates the loop’s condition.\n",
    "\n",
    "(This is also what happens when the execution reaches the end of the loop.)"
   ]
  },
  {
   "cell_type": "code",
   "execution_count": 1,
   "id": "19360cea",
   "metadata": {},
   "outputs": [
    {
     "name": "stdout",
     "output_type": "stream",
     "text": [
      "Who are you?\n",
      "indra\n",
      "Who are you?\n",
      "raaja\n",
      "Who are you?\n",
      "Joe\n",
      "Hello, Joe. What is the password? (It is a fish.)\n",
      "swordfish\n",
      "Access granted.\n"
     ]
    }
   ],
   "source": [
    "while True:\n",
    " print('Who are you?')\n",
    " name = input()\n",
    " if name != 'Joe':\n",
    "    continue\n",
    " print('Hello, Joe. What is the password? (It is a fish.)')\n",
    " password = input()\n",
    " if password == 'swordfish':\n",
    "    break\n",
    "print('Access granted.') "
   ]
  },
  {
   "cell_type": "markdown",
   "id": "c44edc4d",
   "metadata": {},
   "source": [
    "## for Loops and the range() Function\n",
    "1. The while loop keeps looping while its condition is True (which is the reason for its name), but what if you want to execute a block of code only a certain number of times? \n",
    "2. You can do this with a for loop statement and the range() function."
   ]
  },
  {
   "cell_type": "markdown",
   "id": "56dcda36",
   "metadata": {},
   "source": [
    "### The Starting, Stopping, and Stepping Arguments to range()\n",
    "1. Some functions can be called with multiple arguments separated by a comma, and range() is one of them. This lets you change the integer passed to range() to follow any sequence of integers, including starting at a number other than zero. "
   ]
  },
  {
   "cell_type": "code",
   "execution_count": 2,
   "id": "156a392c",
   "metadata": {},
   "outputs": [
    {
     "name": "stdout",
     "output_type": "stream",
     "text": [
      "12\n",
      "13\n",
      "14\n",
      "15\n",
      "16\n"
     ]
    }
   ],
   "source": [
    "for i in range(12,17):\n",
    "    print(i)"
   ]
  },
  {
   "cell_type": "markdown",
   "id": "bdac62a9",
   "metadata": {},
   "source": [
    "#### The range() function can also be called with three arguments.\n",
    "1. The first two arguments will be the start and stop values, and the third will be the step argument. \n",
    "##### The step is the amount that the variable is increased by after each iteration."
   ]
  },
  {
   "cell_type": "code",
   "execution_count": 3,
   "id": "de25a990",
   "metadata": {},
   "outputs": [
    {
     "name": "stdout",
     "output_type": "stream",
     "text": [
      "10\n",
      "12\n",
      "14\n",
      "16\n",
      "18\n",
      "20\n",
      "22\n",
      "24\n",
      "26\n",
      "28\n",
      "30\n"
     ]
    }
   ],
   "source": [
    "for i in range(10,31,2):\n",
    "    print(i)"
   ]
  },
  {
   "cell_type": "code",
   "execution_count": 4,
   "id": "a9ab7847",
   "metadata": {},
   "outputs": [
    {
     "name": "stdout",
     "output_type": "stream",
     "text": [
      "5\n",
      "4\n",
      "3\n",
      "2\n",
      "1\n",
      "0\n"
     ]
    }
   ],
   "source": [
    "# you can even use a negative number for the step argument to make the for loop count down instead of up.\n",
    "for i in range(5, -1, -1):\n",
    " print(i)"
   ]
  },
  {
   "cell_type": "markdown",
   "id": "31feb918",
   "metadata": {},
   "source": [
    "## Importing Modules\n",
    "1. All Python programs can call a basic set of functions called built-in functions, including the print(), input(), and len() functions you’ve seen before.\n",
    "2. Python also comes with a set of modules called the standard library.\n",
    "2. Each module is a Python program that contains a related group of functions that can be embedded in your programs.\n",
    "3. For example, the math module has mathematics related functions, the random module has random number-related functions, and so on.\n",
    "4. Before you can use the functions in a module, you must import the module with an import statement."
   ]
  },
  {
   "cell_type": "code",
   "execution_count": 5,
   "id": "b93a5f28",
   "metadata": {},
   "outputs": [
    {
     "name": "stdout",
     "output_type": "stream",
     "text": [
      "1\n",
      "7\n",
      "10\n",
      "2\n",
      "4\n"
     ]
    }
   ],
   "source": [
    "import random\n",
    "for i in range(5):\n",
    " print(random.randint(1, 10))\n"
   ]
  },
  {
   "cell_type": "markdown",
   "id": "6d277c57",
   "metadata": {},
   "source": [
    "### from import Statements\n",
    "An alternative form of the import statement is composed of the from keyword, followed by the module name, the import keyword, and a star; for example,\n",
    "\n",
    "from random import *\n",
    "\n",
    "With this form of import statement, calls to functions in random will not need the random. prefix."
   ]
  },
  {
   "cell_type": "markdown",
   "id": "bdd01fcb",
   "metadata": {},
   "source": [
    "### Ending a Program Early with the sys.exit() Function\n",
    "1. The last flow control concept to cover is how to terminate the program. \n",
    "2. Programs always terminate if the program execution reaches the bottom of the instructions. \n",
    "3. However, you can cause the program to terminate, or exit, before the last instruction by calling the sys.exit() function.\n",
    "4. Since this function is in the sys module, you have to import sys before your program can use it."
   ]
  },
  {
   "cell_type": "code",
   "execution_count": 6,
   "id": "413fd933",
   "metadata": {},
   "outputs": [
    {
     "name": "stdout",
     "output_type": "stream",
     "text": [
      "Type exit to exit.\n",
      "indra\n",
      "You typed indra.\n",
      "Type exit to exit.\n",
      "mahi\n",
      "You typed mahi.\n",
      "Type exit to exit.\n",
      "omkar\n",
      "You typed omkar.\n",
      "Type exit to exit.\n",
      "exit\n"
     ]
    },
    {
     "ename": "SystemExit",
     "evalue": "",
     "output_type": "error",
     "traceback": [
      "An exception has occurred, use %tb to see the full traceback.\n",
      "\u001b[1;31mSystemExit\u001b[0m\n"
     ]
    },
    {
     "name": "stderr",
     "output_type": "stream",
     "text": [
      "C:\\Users\\Phanindra Reddy\\anaconda3\\lib\\site-packages\\IPython\\core\\interactiveshell.py:3465: UserWarning: To exit: use 'exit', 'quit', or Ctrl-D.\n",
      "  warn(\"To exit: use 'exit', 'quit', or Ctrl-D.\", stacklevel=1)\n"
     ]
    }
   ],
   "source": [
    "import sys\n",
    "while True:\n",
    " print('Type exit to exit.')\n",
    " response = input()\n",
    " if response == 'exit':\n",
    "     sys.exit()\n",
    " print('You typed ' + response + '.')"
   ]
  },
  {
   "cell_type": "markdown",
   "id": "2a275154",
   "metadata": {},
   "source": [
    "# Chapter-3\n",
    "## Functions "
   ]
  },
  {
   "cell_type": "raw",
   "id": "7f305746",
   "metadata": {},
   "source": [
    "Python provides several built in functions like print, input,len, but you can also write your own functions.\n",
    "A function is like a miniprogram within a program."
   ]
  },
  {
   "cell_type": "markdown",
   "id": "fca369c3",
   "metadata": {},
   "source": [
    "1. In code, a function call is just the function’s name followed by parentheses, possibly with some number of arguments in between the parentheses.\n",
    "2. When the program execution reaches these calls, it will jump to the top line in the function and begin executing the code there. \n",
    "3. When it reaches the end of the function, the execution returns to the line that called the function and continues moving through the code as before."
   ]
  },
  {
   "cell_type": "markdown",
   "id": "51ed77a8",
   "metadata": {},
   "source": [
    "***Major purpose of functions is to group code that gets executed multiple times.\n",
    "Without a function defined, you would have to copy and paste the code each time"
   ]
  },
  {
   "cell_type": "code",
   "execution_count": 2,
   "id": "4a1561c2",
   "metadata": {},
   "outputs": [
    {
     "name": "stdout",
     "output_type": "stream",
     "text": [
      "Howdy!\n",
      "Howdy!!!\n",
      "Hello there.\n",
      "Howdy!\n",
      "Howdy!!!\n",
      "Hello there.\n",
      "Howdy!\n",
      "Howdy!!!\n",
      "Hello there.\n"
     ]
    }
   ],
   "source": [
    "print('Howdy!')\n",
    "print('Howdy!!!')\n",
    "print('Hello there.')\n",
    "print('Howdy!')\n",
    "print('Howdy!!!')\n",
    "print('Hello there.')\n",
    "print('Howdy!')\n",
    "print('Howdy!!!')\n",
    "print('Hello there.')"
   ]
  },
  {
   "cell_type": "code",
   "execution_count": 3,
   "id": "898d82b1",
   "metadata": {},
   "outputs": [
    {
     "name": "stdout",
     "output_type": "stream",
     "text": [
      "Howdy!\n",
      "Howdy!!!\n",
      "Hello there.\n",
      "Howdy!\n",
      "Howdy!!!\n",
      "Hello there.\n",
      "Howdy!\n",
      "Howdy!!!\n",
      "Hello there.\n"
     ]
    }
   ],
   "source": [
    "def hello():\n",
    "  print('Howdy!')\n",
    "  print('Howdy!!!')\n",
    "  print('Hello there.')\n",
    "hello()\n",
    "hello()\n",
    "hello()"
   ]
  },
  {
   "cell_type": "markdown",
   "id": "de34470b",
   "metadata": {},
   "source": [
    "1. In general, you always want to avoid duplicating code because if you ever decide to update the code—if, for example, you find a bug you need to fix—you’ll have to remember to change the code everywhere you copied it.\n",
    "2. As you get more programming experience, you’ll often find yourself deduplicating code, which means getting rid of duplicated or copy-and pasted code.\n",
    "3. Deduplication makes your programs shorter, easier to read, and easier to update.\n"
   ]
  },
  {
   "cell_type": "raw",
   "id": "52347532",
   "metadata": {},
   "source": [
    "def statements with parameters:\n",
    "    When you call the print() or len() function, you pass them values, called arguments, by typing them between the parentheses. You can also define your own functions that accept arguments."
   ]
  },
  {
   "cell_type": "code",
   "execution_count": 4,
   "id": "510c3f4a",
   "metadata": {},
   "outputs": [
    {
     "name": "stdout",
     "output_type": "stream",
     "text": [
      "Hello, Alice\n",
      "Hello, Bob\n"
     ]
    }
   ],
   "source": [
    "def hello(name): # parameter \n",
    " print('Hello, ' + name)\n",
    "hello('Alice') # argument\n",
    "hello('Bob')"
   ]
  },
  {
   "cell_type": "markdown",
   "id": "da0c2d50",
   "metadata": {},
   "source": [
    "1. Parameters are variables that contain arguments. \n",
    "2. When a function is called with arguments, the arguments are stored in the parameters.\n",
    "3. The first time the hello() function is called, it is passed the argument 'Alice' .\n",
    "4. The program execution enters the function, and the parameter name is automatically set to 'Alice', which is what gets printed by the print() statement ."
   ]
  },
  {
   "cell_type": "markdown",
   "id": "1e3e8b97",
   "metadata": {},
   "source": [
    "***One special thing to note about parameters is that the value stored in a parameter is forgotten when the function returns."
   ]
  },
  {
   "cell_type": "markdown",
   "id": "55577106",
   "metadata": {},
   "source": [
    "#### Define, Call, Pass, Argument, Parameter"
   ]
  },
  {
   "cell_type": "raw",
   "id": "11e21df9",
   "metadata": {},
   "source": [
    "To define a function is to create it, just like an assignment statement like spam = 42 creates the spam variable. \n",
    "The def statement defines the Hello() function.\n",
    "A value being passed to a function in a function call is an argument."
   ]
  },
  {
   "cell_type": "markdown",
   "id": "828b7006",
   "metadata": {},
   "source": [
    "### Return Values and return Statements\n",
    "1. When you call the len() function and pass it an argument such as 'Hello', the function call evaluates to the integer value 5, which is the length of the string you passed it.\n",
    "2. In general, the value that a function call evaluates to is called the return value of the function.\n",
    "3. When creating a function using the def statement, you can specify what the return value should be with a return statement. \n",
    "\n",
    "A return statement consists of the following:\n",
    "\n",
    "•\t The return keyword\n",
    "\n",
    "•\t The value or expression that the function should return"
   ]
  },
  {
   "cell_type": "markdown",
   "id": "30374dff",
   "metadata": {},
   "source": [
    "### The None Value\n",
    "1. In Python, there is a value called None, which represents the absence of a value.\n",
    "2. The None value is the only value of the NoneType data type. (Other programming languages might call this value null, nil, or undefined.) \n",
    "3. Just like the Boolean True and False values, None must be typed with a capital N.\n",
    "4. This value-without-a-value can be helpful when you need to store something that won’t be confused for a real value in a variable.\n",
    "4. One place where None is used is as the return value of print(). \n",
    "5. The print() function displays text on the screen, but it doesn’t need to return anything in the same way len() or input() does. \n",
    "6. But since all function calls need to evaluate to a return value, print() returns None. To see this in action, enter the following into the interactive shell:"
   ]
  },
  {
   "cell_type": "code",
   "execution_count": 6,
   "id": "96a84167",
   "metadata": {},
   "outputs": [
    {
     "name": "stdout",
     "output_type": "stream",
     "text": [
      "Hello\n",
      "None\n"
     ]
    }
   ],
   "source": [
    "a=print(\"Hello\") # this will print Hello and retunrs None which can be stored in the a variable.\n",
    "print(a)"
   ]
  },
  {
   "cell_type": "markdown",
   "id": "1c41943d",
   "metadata": {},
   "source": [
    "***Behind the scenes, Python adds return None to the end of any function definition with no return statement.\n",
    "This is similar to how a while or for loop implicitly ends with a continue statement.\n",
    "Also, if you use a return statement without a value (that is, just the return keyword by itself), then None is returned."
   ]
  },
  {
   "cell_type": "markdown",
   "id": "2544203b",
   "metadata": {},
   "source": [
    "## Keyword Arguments and the print() Function"
   ]
  },
  {
   "cell_type": "markdown",
   "id": "0236374f",
   "metadata": {},
   "source": [
    "1. Most arguments are identified by their position in the function call.\n",
    "2. For example, random.randint(1, 10) is different from random.randint(10, 1). \n",
    "3. The function call random.randint(1, 10) will return a random integer between 1and 10 because the first argument is the low end of the range and the second argument is the high end (while random.randint(10, 1) causes an error).\n",
    "4. However, rather than through their position, keyword arguments are identified by the keyword put before them in the function call.\n",
    "5. Keyword arguments are often used for optional parameters.\n",
    "6. For example, the print()function has the optional parameters end and sep to specify what should be printed at the end of its arguments and between its arguments (separating them), respectively."
   ]
  },
  {
   "cell_type": "code",
   "execution_count": 7,
   "id": "7f3c4cd9",
   "metadata": {},
   "outputs": [
    {
     "name": "stdout",
     "output_type": "stream",
     "text": [
      "Hello\n",
      "World\n"
     ]
    }
   ],
   "source": [
    "print('Hello')\n",
    "print('World')"
   ]
  },
  {
   "cell_type": "raw",
   "id": "7ee40a9b",
   "metadata": {},
   "source": [
    "The two outputted strings appear on separate lines because the print() function automatically adds a newline character to the end of the string it is passed.\n",
    "However, you can set the end keyword argument to change the newline character to a different string."
   ]
  },
  {
   "cell_type": "code",
   "execution_count": 8,
   "id": "e79f92af",
   "metadata": {},
   "outputs": [
    {
     "name": "stdout",
     "output_type": "stream",
     "text": [
      "Hello World\n"
     ]
    }
   ],
   "source": [
    "print('Hello',end=\" \") # now we are passing empty space instead of the new line character.\n",
    "print('World')"
   ]
  },
  {
   "cell_type": "markdown",
   "id": "37e7b0f2",
   "metadata": {},
   "source": [
    "***if you need to disable the newline that gets added to the end of every print() function call,use end='' argument\n"
   ]
  },
  {
   "cell_type": "markdown",
   "id": "9f8acd65",
   "metadata": {},
   "source": [
    "***Similarly, when you pass multiple string values to print(), the function will automatically separate them with a single space."
   ]
  },
  {
   "cell_type": "code",
   "execution_count": 9,
   "id": "c00e65b4",
   "metadata": {},
   "outputs": [
    {
     "name": "stdout",
     "output_type": "stream",
     "text": [
      "cats dogs mice\n"
     ]
    }
   ],
   "source": [
    "print('cats', 'dogs', 'mice')"
   ]
  },
  {
   "cell_type": "code",
   "execution_count": 10,
   "id": "4aaf2851",
   "metadata": {},
   "outputs": [
    {
     "name": "stdout",
     "output_type": "stream",
     "text": [
      "cats,dogs,mice\n"
     ]
    }
   ],
   "source": [
    "print('cats', 'dogs', 'mice',sep=\",\")\n",
    "# you could replace the default separating string by passing the sep keyword argument a different string."
   ]
  },
  {
   "cell_type": "markdown",
   "id": "6f67a10e",
   "metadata": {},
   "source": [
    "## Local and Global Scope\n",
    "1. Parameters and variables that are assigned in a called function are said to exist in that function’s local scope. \n",
    "2. Variables that are assigned outside all functions are said to exist in the global scope. \n",
    "3. A variable that exists in a local scope is called a local variable, while a variable that exists in the global scope is called a global variable.\n",
    "4. A variable must be one or the other; it cannot be both local and global."
   ]
  },
  {
   "cell_type": "markdown",
   "id": "b63aca8d",
   "metadata": {},
   "source": [
    "1. Think of a scope as a container for variables. \n",
    "2. When a scope is destroyed, all the values stored in the scope’s variables are forgotten. \n",
    "3. There is only one global scope, and it is created when your program begins.\n",
    "4. When your program terminates, the global scope is destroyed, and all its variables are forgotten. \n",
    "5. Otherwise, the next time you ran a program, the variables would remember their values from the last time you ran it.\n",
    "6. A local scope is created whenever a function is called. \n",
    "7. Any variables assigned in the function exist within the function’s local scope.\n",
    "8. When the function returns, the local scope is destroyed, and these variables are forgotten. \n",
    "9. The next time you call the function, the local variables will not remember the values stored in them from the last time the function was called. \n",
    "10. Local variables are also stored in frame objects on the call stack.\n"
   ]
  },
  {
   "cell_type": "raw",
   "id": "90b4956c",
   "metadata": {},
   "source": [
    "#### Scopes matter for several reasons:\n",
    "•\t Code in the global scope, outside of all functions, cannot use any local variables.\n",
    "•\t However, code in a local scope can access global variables.\n",
    "•\t Code in a function’s local scope cannot use variables in any other local scope.\n",
    "•\t You can use the same name for different variables if they are in different scopes. That is, there can be a local variable      named spam and a global variable also named spam."
   ]
  },
  {
   "cell_type": "markdown",
   "id": "a8f7a463",
   "metadata": {},
   "source": [
    "1. The reason Python has different scopes instead of just making everything a global variable is so that when variables are modified by the code in a particular call to a function, the function interacts with the rest of the program only through its parameters and the return value.\n",
    "2. This narrows down the number of lines of code that may be causing a bug.\n",
    "3. If your program contained nothing but global variables and had a bug because of a variable being set to a bad value, then it would be hard to track down where this bad value was set. \n",
    "4. It could have been set from anywhere in the program, and your program could be hundreds or thousands of lines long! But if the bug is caused by a local variable with a bad value, you know that only the code in that one function could have set it incorrectly.\n",
    "5. While using global variables in small programs is fine, it is a bad habit to rely on global variables as your programs get larger and larger."
   ]
  },
  {
   "cell_type": "markdown",
   "id": "72bdf00f",
   "metadata": {},
   "source": [
    "1. The call stack is how Python remembers where to return the execution after each function call.\n",
    "2. The call stack isn’t stored in a variable in your program; rather, Python handles it behind the scenes.\n",
    "3. When your program calls a function, Python creates a frame object on the top of the call stack. \n",
    "4. Frame objects store the line number of the original function call so that Python can remember where to return.\n",
    "5. If another function call is made, Python puts another frame object on the call stack above the other one.\n",
    "6. When a function call returns, Python removes a frame object from the top of the stack and moves the execution to the line number stored in it. \n",
    "7. Note that frame objects are always added and removed from the top of the stack and not from any other place.\n"
   ]
  },
  {
   "cell_type": "markdown",
   "id": "b2525fe6",
   "metadata": {},
   "source": [
    "***The top of the call stack is which function the execution is currently \n",
    "in. When the call stack is empty, the execution is on a line outside of all functions."
   ]
  },
  {
   "cell_type": "markdown",
   "id": "c2d90913",
   "metadata": {},
   "source": [
    "##### Local Variables Cannot Be Used in the Global Scope"
   ]
  },
  {
   "cell_type": "code",
   "execution_count": 1,
   "id": "52d3c774",
   "metadata": {},
   "outputs": [
    {
     "ename": "NameError",
     "evalue": "name 'eggs' is not defined",
     "output_type": "error",
     "traceback": [
      "\u001b[1;31m---------------------------------------------------------------------------\u001b[0m",
      "\u001b[1;31mNameError\u001b[0m                                 Traceback (most recent call last)",
      "\u001b[1;32m~\\AppData\\Local\\Temp\\ipykernel_22812\\1239685287.py\u001b[0m in \u001b[0;36m<module>\u001b[1;34m\u001b[0m\n\u001b[0;32m      2\u001b[0m     \u001b[0meggs\u001b[0m\u001b[1;33m=\u001b[0m\u001b[1;36m42\u001b[0m\u001b[1;33m\u001b[0m\u001b[1;33m\u001b[0m\u001b[0m\n\u001b[0;32m      3\u001b[0m \u001b[0mf2\u001b[0m\u001b[1;33m(\u001b[0m\u001b[1;33m)\u001b[0m\u001b[1;33m\u001b[0m\u001b[1;33m\u001b[0m\u001b[0m\n\u001b[1;32m----> 4\u001b[1;33m \u001b[0mprint\u001b[0m\u001b[1;33m(\u001b[0m\u001b[0meggs\u001b[0m\u001b[1;33m)\u001b[0m\u001b[1;33m\u001b[0m\u001b[1;33m\u001b[0m\u001b[0m\n\u001b[0m",
      "\u001b[1;31mNameError\u001b[0m: name 'eggs' is not defined"
     ]
    }
   ],
   "source": [
    "def f2():\n",
    "    eggs=42\n",
    "f2()\n",
    "print(eggs)"
   ]
  },
  {
   "cell_type": "markdown",
   "id": "c9c34667",
   "metadata": {},
   "source": [
    "1. The error happens because the eggs variable exists only in the local scope created when f2() is called .\n",
    "2. Once the program execution returns from f2, that local scope is destroyed, and there is no longer a variable named eggs.\n",
    "3. So when your program tries to run print(eggs), Python gives you an error saying that eggs is not defined. \n",
    "4. This makes sense if you think about it; when the program execution is in the global scope, no local scopes exist, so there can’t be any local variables. \n",
    "5. This is why only global variables can be used in the global scope.\n"
   ]
  },
  {
   "cell_type": "markdown",
   "id": "d85217b3",
   "metadata": {},
   "source": [
    "#### Local Scopes Cannot Use Variables in Other Local Scopes\n",
    "A new local scope is created whenever a function is called, including when a function is called from another function."
   ]
  },
  {
   "cell_type": "code",
   "execution_count": 3,
   "id": "7d40d6fd",
   "metadata": {},
   "outputs": [
    {
     "name": "stdout",
     "output_type": "stream",
     "text": [
      "99\n"
     ]
    }
   ],
   "source": [
    "def spam():\n",
    "  eggs = 99\n",
    "  bacon()\n",
    "  print(eggs)\n",
    "def bacon():\n",
    " ham = 101\n",
    " eggs = 0\n",
    "spam()"
   ]
  },
  {
   "cell_type": "markdown",
   "id": "da937277",
   "metadata": {},
   "source": [
    "1. When the program starts, the spam() function is called , and a local scope is created.\n",
    "2. The local variable eggs  is set to 99. Then the bacon() function is called , and a second local scope is created.\n",
    "3. Multiple local scopes can exist at the same time. \n",
    "4. In this new local scope, the local variable ham is set to 101, and a local variable eggs—which is different from the one in spam()’s local scope—is also created  and set to 0.\n",
    "5. When bacon() returns, the local scope for that call is destroyed, including its eggs variable. \n",
    "6. The program execution continues in the spam() function to print the value of eggs . Since the local scope for the call to spam()\n",
    "7. still exists, the only eggs variable is the spam() function’s eggs variable, which was set to 99.This is what the program prints.\n"
   ]
  },
  {
   "cell_type": "markdown",
   "id": "80768138",
   "metadata": {},
   "source": [
    "***The upshot is that local variables in one function are completely separate from the local variables in another function"
   ]
  },
  {
   "cell_type": "markdown",
   "id": "c5813094",
   "metadata": {},
   "source": [
    "### Global Variables Can Be Read from a Local Scope"
   ]
  },
  {
   "cell_type": "code",
   "execution_count": 1,
   "id": "b19c0fbe",
   "metadata": {},
   "outputs": [
    {
     "name": "stdout",
     "output_type": "stream",
     "text": [
      "42\n",
      "42\n"
     ]
    }
   ],
   "source": [
    "def spam():\n",
    " print(eggs)\n",
    "eggs = 42\n",
    "spam()\n",
    "print(eggs)"
   ]
  },
  {
   "cell_type": "markdown",
   "id": "179acf0e",
   "metadata": {},
   "source": [
    "#### The global Statement\n",
    "1. If you need to modify a global variable from within a function, use the global statement. \n",
    "2. If you have a line such as global eggs at the top of a function, it tells Python, “In this function, eggs refers to the global variable, so don’t create a local variable with this name.” "
   ]
  },
  {
   "cell_type": "code",
   "execution_count": 4,
   "id": "20198337",
   "metadata": {},
   "outputs": [
    {
     "name": "stdout",
     "output_type": "stream",
     "text": [
      "spam\n",
      "spam\n"
     ]
    }
   ],
   "source": [
    "def spam():\n",
    "  global eggs\n",
    "  eggs = 'spam'\n",
    "  print(eggs)\n",
    "eggs = 'global'\n",
    "spam()\n",
    "print(eggs)"
   ]
  },
  {
   "cell_type": "code",
   "execution_count": 20,
   "id": "d4c59176",
   "metadata": {},
   "outputs": [
    {
     "ename": "SyntaxError",
     "evalue": "name 'eggs' is used prior to global declaration (1478745343.py, line 4)",
     "output_type": "error",
     "traceback": [
      "\u001b[1;36m  File \u001b[1;32m\"C:\\Users\\Phanindra Reddy\\AppData\\Local\\Temp\\ipykernel_23972\\1478745343.py\"\u001b[1;36m, line \u001b[1;32m4\u001b[0m\n\u001b[1;33m    global eggs # if we want to modify global variable in local scope , we should declare it at the top of the function.\u001b[0m\n\u001b[1;37m    ^\u001b[0m\n\u001b[1;31mSyntaxError\u001b[0m\u001b[1;31m:\u001b[0m name 'eggs' is used prior to global declaration\n"
     ]
    }
   ],
   "source": [
    "# We aren't allowed to access a variable that is marked as global in the same code block preceding the global statement.\n",
    "def spam():\n",
    "  print(eggs)\n",
    "  global eggs # if we want to modify global variable in local scope , we should declare it at the top of the function.\n",
    "  eggs = 'spam'\n",
    "  print(eggs)\n",
    "eggs = 'global'\n",
    "spam()\n",
    "print(eggs)\n",
    "\n",
    "# A global statement needs to be placed above the first use of a variable, \n",
    "# even if that first use is just reading the existing value, not assigning to it."
   ]
  },
  {
   "cell_type": "raw",
   "id": "095e14b8",
   "metadata": {},
   "source": [
    "Because eggs is declared global at the top of spam() , when eggs is set to 'spam' , this assignment is done to the globally scoped eggs.\n",
    "No local eggs variable is created."
   ]
  },
  {
   "cell_type": "raw",
   "id": "1e5a1100",
   "metadata": {},
   "source": [
    "There are four rules to tell whether a variable is in a local scope or global scope:\n",
    "•\t If a variable is being used in the global scope (that is, outside of all functions), then it is always a global variable.\n",
    "•\t If there is a global statement for that variable in a function, it is a global variable.\n",
    "•\t Otherwise, if the variable is used in an assignment statement in the function, it is a local variable.\n",
    "•\t But if the variable is not used in an assignment statement, it is a global variable."
   ]
  },
  {
   "cell_type": "code",
   "execution_count": 18,
   "id": "60b3e226",
   "metadata": {},
   "outputs": [
    {
     "ename": "UnboundLocalError",
     "evalue": "local variable 'eggs' referenced before assignment",
     "output_type": "error",
     "traceback": [
      "\u001b[1;31m---------------------------------------------------------------------------\u001b[0m",
      "\u001b[1;31mUnboundLocalError\u001b[0m                         Traceback (most recent call last)",
      "\u001b[1;32m~\\AppData\\Local\\Temp\\ipykernel_23972\\4209653201.py\u001b[0m in \u001b[0;36m<module>\u001b[1;34m\u001b[0m\n\u001b[0;32m      5\u001b[0m  \u001b[0meggs\u001b[0m \u001b[1;33m=\u001b[0m \u001b[1;34m'spam local'\u001b[0m\u001b[1;33m\u001b[0m\u001b[1;33m\u001b[0m\u001b[0m\n\u001b[0;32m      6\u001b[0m \u001b[0meggs\u001b[0m \u001b[1;33m=\u001b[0m \u001b[1;34m'global'\u001b[0m\u001b[1;33m\u001b[0m\u001b[1;33m\u001b[0m\u001b[0m\n\u001b[1;32m----> 7\u001b[1;33m \u001b[0mspam\u001b[0m\u001b[1;33m(\u001b[0m\u001b[1;33m)\u001b[0m\u001b[1;33m\u001b[0m\u001b[1;33m\u001b[0m\u001b[0m\n\u001b[0m",
      "\u001b[1;32m~\\AppData\\Local\\Temp\\ipykernel_23972\\4209653201.py\u001b[0m in \u001b[0;36mspam\u001b[1;34m()\u001b[0m\n\u001b[0;32m      2\u001b[0m \u001b[1;31m# The code in a function can’t use a local variable named eggs and then use the global eggs variable later in that same function.\u001b[0m\u001b[1;33m\u001b[0m\u001b[1;33m\u001b[0m\u001b[0m\n\u001b[0;32m      3\u001b[0m \u001b[1;32mdef\u001b[0m \u001b[0mspam\u001b[0m\u001b[1;33m(\u001b[0m\u001b[1;33m)\u001b[0m\u001b[1;33m:\u001b[0m\u001b[1;33m\u001b[0m\u001b[1;33m\u001b[0m\u001b[0m\n\u001b[1;32m----> 4\u001b[1;33m  \u001b[0mprint\u001b[0m\u001b[1;33m(\u001b[0m\u001b[0meggs\u001b[0m\u001b[1;33m)\u001b[0m \u001b[1;31m# ERROR!\u001b[0m\u001b[1;33m\u001b[0m\u001b[1;33m\u001b[0m\u001b[0m\n\u001b[0m\u001b[0;32m      5\u001b[0m  \u001b[0meggs\u001b[0m \u001b[1;33m=\u001b[0m \u001b[1;34m'spam local'\u001b[0m\u001b[1;33m\u001b[0m\u001b[1;33m\u001b[0m\u001b[0m\n\u001b[0;32m      6\u001b[0m \u001b[0meggs\u001b[0m \u001b[1;33m=\u001b[0m \u001b[1;34m'global'\u001b[0m\u001b[1;33m\u001b[0m\u001b[1;33m\u001b[0m\u001b[0m\n",
      "\u001b[1;31mUnboundLocalError\u001b[0m: local variable 'eggs' referenced before assignment"
     ]
    }
   ],
   "source": [
    "# In a function, a variable will either always be global or always be local.\n",
    "# The code in a function can’t use a local variable named eggs and then use the global eggs variable later in that same function.\n",
    "def spam():\n",
    " print(eggs) # ERROR!\n",
    " eggs = 'spam local'\n",
    "eggs = 'global'\n",
    "spam()"
   ]
  },
  {
   "cell_type": "code",
   "execution_count": 16,
   "id": "c90d398c",
   "metadata": {},
   "outputs": [
    {
     "name": "stdout",
     "output_type": "stream",
     "text": [
      "42\n",
      "spam\n"
     ]
    }
   ],
   "source": [
    "def spam():\n",
    "  global eggs\n",
    "  eggs = 'spam' # this is the global\n",
    "def bacon():\n",
    "  eggs = 'bacon' # this is a local\n",
    "def ham():\n",
    " print(eggs) # this is the global\n",
    "eggs = 42 # this is the global\n",
    "\n",
    "ham()\n",
    "spam()\n",
    "print(eggs)"
   ]
  },
  {
   "cell_type": "code",
   "execution_count": 17,
   "id": "6b1faa8c",
   "metadata": {},
   "outputs": [
    {
     "name": "stdout",
     "output_type": "stream",
     "text": [
      "spam\n"
     ]
    }
   ],
   "source": [
    "ham()"
   ]
  },
  {
   "cell_type": "markdown",
   "id": "1715689e",
   "metadata": {},
   "source": [
    "***If you ever want to modify the value stored in a global variable from in a function, \n",
    "you must use a global statement on that variable."
   ]
  },
  {
   "cell_type": "markdown",
   "id": "ee5b0050",
   "metadata": {},
   "source": [
    "## Exception Handling\n",
    "1. Right now, getting an error, or exception, in your Python program means the entire program will crash.\n",
    "2. You don’t want this to happen in real-world programs. Instead, you want the program to detect errors, handle them, and then continue to run."
   ]
  },
  {
   "cell_type": "code",
   "execution_count": 12,
   "id": "b2549400",
   "metadata": {},
   "outputs": [
    {
     "name": "stdout",
     "output_type": "stream",
     "text": [
      "21.0\n",
      "3.5\n",
      "We cannot divide by zero\n",
      "None\n",
      "42.0\n"
     ]
    }
   ],
   "source": [
    "def spam(divideBy):\n",
    "    try: \n",
    "        return 42 / divideBy\n",
    "    except ZeroDivisionError:\n",
    "        print(\"We cannot divide by zero\")\n",
    "print(spam(2))\n",
    "print(spam(12))\n",
    "print(spam(0))\n",
    "print(spam(1))\n"
   ]
  },
  {
   "cell_type": "raw",
   "id": "fda63651",
   "metadata": {},
   "source": [
    "Errors can be handled with try and except statements. \n",
    "The code that could potentially have an error is put in a try clause.\n",
    "The program execution moves to the start of a following except clause if an error happens.\n",
    "You can put the previous divide-by-zero code in a try clause and have an except clause contain code to handle what happens when this error occurs."
   ]
  },
  {
   "cell_type": "markdown",
   "id": "25116c95",
   "metadata": {},
   "source": [
    "***Once the execution jumps to the code in the except clause,it does not return to the try clause.\n",
    "Instead, it just continues moving down the program as normal.\n",
    "You can think of functions as black boxes: they have inputs in the form of parameters and outputs in the form of return values, and the code in them doesn’t affect variables in other functions."
   ]
  },
  {
   "cell_type": "code",
   "execution_count": null,
   "id": "c91a1552",
   "metadata": {},
   "outputs": [],
   "source": [
    "When the user presses ctrl-C while a Python program is running, Python raises the KeyboardInterrupt exception.\n",
    "If there is no try-except statement to catch this exception, the program crashes with an ugly error message. "
   ]
  },
  {
   "cell_type": "markdown",
   "id": "68687b27",
   "metadata": {},
   "source": [
    "### Global Variables Can Be Read from a Local Scope"
   ]
  },
  {
   "cell_type": "code",
   "execution_count": 4,
   "id": "a5761941",
   "metadata": {},
   "outputs": [
    {
     "name": "stdout",
     "output_type": "stream",
     "text": [
      "42\n",
      "42\n"
     ]
    }
   ],
   "source": [
    "def spam():\n",
    " print(eggs)\n",
    "eggs = 42\n",
    "spam()\n",
    "print(eggs)"
   ]
  },
  {
   "cell_type": "markdown",
   "id": "ca45dd7f",
   "metadata": {},
   "source": [
    "## The global Statement\n",
    "1. If you need to modify a global variable from within a function, use the global statement. \n",
    "2. If you have a line such as global eggs at the top of a function, it tells Python, “In this function, eggs refers to the global variable, so don’t create a local variable with this name.”"
   ]
  },
  {
   "cell_type": "code",
   "execution_count": 9,
   "id": "979ac71c",
   "metadata": {},
   "outputs": [
    {
     "name": "stdout",
     "output_type": "stream",
     "text": [
      "100\n",
      "100\n"
     ]
    }
   ],
   "source": [
    "def spam():\n",
    "    global eggs\n",
    "    eggs=100\n",
    "    print(eggs)\n",
    "eggs = 42\n",
    "spam()\n",
    "print(eggs)"
   ]
  },
  {
   "cell_type": "markdown",
   "id": "9996f2a1",
   "metadata": {},
   "source": [
    "# Chapter-4 \n",
    "## LISTS"
   ]
  },
  {
   "cell_type": "raw",
   "id": "50d5d975",
   "metadata": {},
   "source": [
    "Lists and tuples can contain multiple values, which makes writing programs that handle large amounts of data easier. \n",
    "And since lists themselves can contain other lists, you can use them to arrange data into hierarchical structures."
   ]
  },
  {
   "cell_type": "markdown",
   "id": "ddcd0a46",
   "metadata": {},
   "source": [
    "#### The List Data Type\n",
    "1. A list is a value that contains multiple values in an ordered sequence.\n",
    "2. The term list value refers to the list itself (which is a value that can be stored in a variable or passed to a function like any other value), not the values inside the list value.\n",
    "3. A list value looks like this: ['cat', 'bat', 'rat', 'elephant']. \n",
    "4. Just as string values are typed with quote characters to mark where the string begins and ends, a list begins with an opening square bracket and ends with a closing square bracket, [].\n",
    "5. Values inside the list are also called items. Items are separated with commas (that is, they are comma-delimited)."
   ]
  },
  {
   "cell_type": "code",
   "execution_count": 21,
   "id": "0e4b5d0f",
   "metadata": {},
   "outputs": [
    {
     "name": "stdout",
     "output_type": "stream",
     "text": [
      "The bat ate the cat.\n"
     ]
    }
   ],
   "source": [
    "spam = ['cat', 'bat', 'rat', 'elephant']\n",
    "print('The ' + spam[1] + ' ate the ' + spam[0] + '.')"
   ]
  },
  {
   "cell_type": "markdown",
   "id": "44eb92e2",
   "metadata": {},
   "source": [
    "***Indexes can be only integer values, not floats. The following example will cause a TypeError error:"
   ]
  },
  {
   "cell_type": "code",
   "execution_count": 22,
   "id": "309aeafe",
   "metadata": {},
   "outputs": [
    {
     "ename": "TypeError",
     "evalue": "list indices must be integers or slices, not float",
     "output_type": "error",
     "traceback": [
      "\u001b[1;31m---------------------------------------------------------------------------\u001b[0m",
      "\u001b[1;31mTypeError\u001b[0m                                 Traceback (most recent call last)",
      "\u001b[1;32m~\\AppData\\Local\\Temp\\ipykernel_23972\\1834272716.py\u001b[0m in \u001b[0;36m<module>\u001b[1;34m\u001b[0m\n\u001b[1;32m----> 1\u001b[1;33m \u001b[0mspam\u001b[0m\u001b[1;33m[\u001b[0m\u001b[1;36m2.0\u001b[0m\u001b[1;33m]\u001b[0m\u001b[1;33m\u001b[0m\u001b[1;33m\u001b[0m\u001b[0m\n\u001b[0m",
      "\u001b[1;31mTypeError\u001b[0m: list indices must be integers or slices, not float"
     ]
    }
   ],
   "source": [
    "spam[2.0]"
   ]
  },
  {
   "cell_type": "code",
   "execution_count": 23,
   "id": "6a28b2ab",
   "metadata": {},
   "outputs": [
    {
     "data": {
      "text/plain": [
       "str"
      ]
     },
     "execution_count": 23,
     "metadata": {},
     "output_type": "execute_result"
    }
   ],
   "source": [
    "type(spam[2])"
   ]
  },
  {
   "cell_type": "markdown",
   "id": "5212050c",
   "metadata": {},
   "source": [
    "### Getting a List from Another List with Slices\n",
    "Just as an index can get a single value from a list, a slice can get several values from a list, in the form of a new list. \n",
    "\n",
    "A slice is typed between square brackets, like an index, but it has two integers separated by a colon."
   ]
  },
  {
   "cell_type": "markdown",
   "id": "20f3529d",
   "metadata": {},
   "source": [
    "### Getting a List’s Length with the len() Function\n",
    "1. The len() function will return the number of values that are in a list value passed to it, just like it can count the number of characters in a string value."
   ]
  },
  {
   "cell_type": "code",
   "execution_count": 24,
   "id": "1460768b",
   "metadata": {},
   "outputs": [
    {
     "data": {
      "text/plain": [
       "3"
      ]
     },
     "execution_count": 24,
     "metadata": {},
     "output_type": "execute_result"
    }
   ],
   "source": [
    "spam = ['cat', 'dog', 'moose']\n",
    "len(spam)"
   ]
  },
  {
   "cell_type": "code",
   "execution_count": 25,
   "id": "5925b989",
   "metadata": {},
   "outputs": [
    {
     "data": {
      "text/plain": [
       "['cat', 'aardvark', 'rat', 'elephant']"
      ]
     },
     "execution_count": 25,
     "metadata": {},
     "output_type": "execute_result"
    }
   ],
   "source": [
    "spam = ['cat', 'bat', 'rat', 'elephant']\n",
    "spam[1] = 'aardvark'\n",
    "spam"
   ]
  },
  {
   "cell_type": "code",
   "execution_count": 26,
   "id": "74f94dd3",
   "metadata": {},
   "outputs": [
    {
     "data": {
      "text/plain": [
       "['X', 'Y', 'Z', 'X', 'Y', 'Z', 'X', 'Y', 'Z']"
      ]
     },
     "execution_count": 26,
     "metadata": {},
     "output_type": "execute_result"
    }
   ],
   "source": [
    "['X', 'Y', 'Z'] * 3  # list replication"
   ]
  },
  {
   "cell_type": "code",
   "execution_count": 27,
   "id": "71bd3177",
   "metadata": {},
   "outputs": [
    {
     "ename": "SyntaxError",
     "evalue": "invalid syntax (3618588647.py, line 1)",
     "output_type": "error",
     "traceback": [
      "\u001b[1;36m  File \u001b[1;32m\"C:\\Users\\Phanindra Reddy\\AppData\\Local\\Temp\\ipykernel_23972\\3618588647.py\"\u001b[1;36m, line \u001b[1;32m1\u001b[0m\n\u001b[1;33m    Removing Values from Lists with del Statements\u001b[0m\n\u001b[1;37m             ^\u001b[0m\n\u001b[1;31mSyntaxError\u001b[0m\u001b[1;31m:\u001b[0m invalid syntax\n"
     ]
    }
   ],
   "source": [
    "Removing Values from Lists with del Statements\n",
    "The del statement will delete values at an index in a list. All of the values \n",
    "in the list after the deleted value will be moved up one index."
   ]
  },
  {
   "cell_type": "code",
   "execution_count": 28,
   "id": "7dff5e4c",
   "metadata": {},
   "outputs": [
    {
     "data": {
      "text/plain": [
       "['cat', 'bat', 'elephant']"
      ]
     },
     "execution_count": 28,
     "metadata": {},
     "output_type": "execute_result"
    }
   ],
   "source": [
    "spam = ['cat', 'bat', 'rat', 'elephant']\n",
    "del spam[2]\n",
    "spam"
   ]
  },
  {
   "cell_type": "code",
   "execution_count": 29,
   "id": "dd16d87a",
   "metadata": {},
   "outputs": [
    {
     "data": {
      "text/plain": [
       "['cat', 'bat']"
      ]
     },
     "execution_count": 29,
     "metadata": {},
     "output_type": "execute_result"
    }
   ],
   "source": [
    "del spam[2]\n",
    "spam\n"
   ]
  },
  {
   "cell_type": "code",
   "execution_count": 31,
   "id": "ce4464f8",
   "metadata": {},
   "outputs": [
    {
     "name": "stdout",
     "output_type": "stream",
     "text": [
      "Enter the name of cat 1 (Or enter nothing to stop.):\n",
      "sena\n",
      "Enter the name of cat 2 (Or enter nothing to stop.):\n",
      "cutie\n",
      "Enter the name of cat 3 (Or enter nothing to stop.):\n",
      "jimmy\n",
      "Enter the name of cat 4 (Or enter nothing to stop.):\n",
      "mahi\n",
      "Enter the name of cat 5 (Or enter nothing to stop.):\n",
      "\n",
      "The cat names are:\n",
      " sena\n",
      " cutie\n",
      " jimmy\n",
      " mahi\n"
     ]
    }
   ],
   "source": [
    "catNames = []\n",
    "while True:\n",
    " print('Enter the name of cat ' + str(len(catNames) + 1) + \n",
    " ' (Or enter nothing to stop.):')\n",
    " name = input()\n",
    " if name == '':\n",
    "     break   # below the name should be in list else the concatenation is not possible.\n",
    " catNames = catNames + [name] # list concatenation\n",
    "print('The cat names are:')\n",
    "for name in catNames:\n",
    " print(' ' + name)"
   ]
  },
  {
   "cell_type": "code",
   "execution_count": 32,
   "id": "1f29b18c",
   "metadata": {},
   "outputs": [
    {
     "name": "stdout",
     "output_type": "stream",
     "text": [
      "Enter the name of cat 1 (Or enter nothing to stop.):\n",
      "indra\n"
     ]
    },
    {
     "ename": "TypeError",
     "evalue": "can only concatenate list (not \"str\") to list",
     "output_type": "error",
     "traceback": [
      "\u001b[1;31m---------------------------------------------------------------------------\u001b[0m",
      "\u001b[1;31mTypeError\u001b[0m                                 Traceback (most recent call last)",
      "\u001b[1;32m~\\AppData\\Local\\Temp\\ipykernel_23972\\66822490.py\u001b[0m in \u001b[0;36m<module>\u001b[1;34m\u001b[0m\n\u001b[0;32m      6\u001b[0m  \u001b[1;32mif\u001b[0m \u001b[0mname\u001b[0m \u001b[1;33m==\u001b[0m \u001b[1;34m''\u001b[0m\u001b[1;33m:\u001b[0m\u001b[1;33m\u001b[0m\u001b[1;33m\u001b[0m\u001b[0m\n\u001b[0;32m      7\u001b[0m      \u001b[1;32mbreak\u001b[0m\u001b[1;33m\u001b[0m\u001b[1;33m\u001b[0m\u001b[0m\n\u001b[1;32m----> 8\u001b[1;33m  \u001b[0mcatNames\u001b[0m \u001b[1;33m=\u001b[0m \u001b[0mcatNames\u001b[0m \u001b[1;33m+\u001b[0m \u001b[0mname\u001b[0m \u001b[1;31m# list concatenation\u001b[0m\u001b[1;33m\u001b[0m\u001b[1;33m\u001b[0m\u001b[0m\n\u001b[0m\u001b[0;32m      9\u001b[0m \u001b[0mprint\u001b[0m\u001b[1;33m(\u001b[0m\u001b[1;34m'The cat names are:'\u001b[0m\u001b[1;33m)\u001b[0m\u001b[1;33m\u001b[0m\u001b[1;33m\u001b[0m\u001b[0m\n\u001b[0;32m     10\u001b[0m \u001b[1;32mfor\u001b[0m \u001b[0mname\u001b[0m \u001b[1;32min\u001b[0m \u001b[0mcatNames\u001b[0m\u001b[1;33m:\u001b[0m\u001b[1;33m\u001b[0m\u001b[1;33m\u001b[0m\u001b[0m\n",
      "\u001b[1;31mTypeError\u001b[0m: can only concatenate list (not \"str\") to list"
     ]
    }
   ],
   "source": [
    "catNames = []\n",
    "while True:\n",
    " print('Enter the name of cat ' + str(len(catNames) + 1) + \n",
    " ' (Or enter nothing to stop.):')\n",
    " name = input()\n",
    " if name == '':\n",
    "     break\n",
    " catNames = catNames + name # list concatenation\n",
    "print('The cat names are:')\n",
    "for name in catNames:\n",
    " print(' ' + name)"
   ]
  },
  {
   "cell_type": "markdown",
   "id": "32641414",
   "metadata": {},
   "source": [
    "***A for loop repeats the code block once for each item in a list value"
   ]
  },
  {
   "cell_type": "code",
   "execution_count": 33,
   "id": "df0a80ed",
   "metadata": {},
   "outputs": [
    {
     "name": "stdout",
     "output_type": "stream",
     "text": [
      "0\n",
      "1\n",
      "2\n",
      "3\n"
     ]
    }
   ],
   "source": [
    "# The return value from range(4) is a sequence value that Python considers similar to [0, 1, 2, 3].\n",
    "for i in range(4):    # for i in [0, 1, 2, 3]:\n",
    "    print(i)"
   ]
  },
  {
   "cell_type": "markdown",
   "id": "d70825c3",
   "metadata": {},
   "source": [
    "***A common Python technique is to use range(len(someList)) with a forloop to iterate over the indexes of a list.\n",
    "Best of all, range(len(supplies)) will iterate through all the indexes of supplies, no matter how many items it contains."
   ]
  },
  {
   "cell_type": "code",
   "execution_count": 34,
   "id": "32082da9",
   "metadata": {},
   "outputs": [
    {
     "name": "stdout",
     "output_type": "stream",
     "text": [
      "Index 0 in supplies is: pens\n",
      "Index 1 in supplies is: staplers\n",
      "Index 2 in supplies is: flamethrowers\n",
      "Index 3 in supplies is: binders\n"
     ]
    }
   ],
   "source": [
    "supplies = ['pens', 'staplers', 'flamethrowers', 'binders']\n",
    "for i in range(len(supplies)):\n",
    "    print('Index ' + str(i) + ' in supplies is: ' + supplies[i])"
   ]
  },
  {
   "cell_type": "markdown",
   "id": "9d0d53ac",
   "metadata": {},
   "source": [
    "### The in and not in Operators\n",
    "1. You can determine whether a value is or isn’t in a list with the in and not in operators. \n",
    "2. Like other operators, in and not in are used in expressions and connect two values: a value to look for in a list and the list where it may be found. \n",
    "3. These expressions will evaluate to a Boolean value. "
   ]
  },
  {
   "cell_type": "code",
   "execution_count": 35,
   "id": "6e28c657",
   "metadata": {},
   "outputs": [
    {
     "data": {
      "text/plain": [
       "False"
      ]
     },
     "execution_count": 35,
     "metadata": {},
     "output_type": "execute_result"
    }
   ],
   "source": [
    "spam = ['hello', 'hi', 'howdy', 'heyas']\n",
    "'cat' in spam"
   ]
  },
  {
   "cell_type": "markdown",
   "id": "5f082d9a",
   "metadata": {},
   "source": [
    "#### The Multiple Assignment Trick\n",
    "1. The multiple assignment trick (technically called tuple unpacking) is a shortcut that lets you assign multiple variables with the values in a list in one line of code. "
   ]
  },
  {
   "cell_type": "code",
   "execution_count": 36,
   "id": "9fb9f6ac",
   "metadata": {},
   "outputs": [],
   "source": [
    "cat = ['fat', 'gray', 'loud']\n",
    "size = cat[0]\n",
    "color = cat[1]\n",
    "disposition = cat[2]"
   ]
  },
  {
   "cell_type": "code",
   "execution_count": 37,
   "id": "abb7db5a",
   "metadata": {},
   "outputs": [],
   "source": [
    "#So instead of doing above way, we can do it simply in one line.\n",
    "cat = ['fat', 'gray', 'loud']\n",
    "size, color, disposition = cat"
   ]
  },
  {
   "cell_type": "markdown",
   "id": "f2acc516",
   "metadata": {},
   "source": [
    "#### Using the enumerate() Function with Lists\n",
    "Instead of using the range(len(someList)) technique with a for loop to obtain the integer index of the items in the list, you can call the enumerate() function instead.\n",
    "\n",
    "On each iteration of the loop, enumerate() will return two values: the index of the item in the list, and the item in the list itself."
   ]
  },
  {
   "cell_type": "code",
   "execution_count": 38,
   "id": "d1d2a34c",
   "metadata": {},
   "outputs": [
    {
     "name": "stdout",
     "output_type": "stream",
     "text": [
      "Index 0 in supplies is: pens\n",
      "Index 1 in supplies is: staplers\n",
      "Index 2 in supplies is: flamethrowers\n",
      "Index 3 in supplies is: binders\n"
     ]
    }
   ],
   "source": [
    "#The enumerate() function is useful if you need both the item and the item’s index in the loop’s block.\n",
    "supplies = ['pens', 'staplers', 'flamethrowers', 'binders']\n",
    "for index, item in enumerate(supplies):\n",
    " print('Index ' + str(index) + ' in supplies is: ' + item)"
   ]
  },
  {
   "cell_type": "markdown",
   "id": "79d9752c",
   "metadata": {},
   "source": [
    "##### Using the random.choice() and random.shuffle() Functions with Lists\n",
    "The random module has a couple functions that accept lists for arguments.\n",
    "\n",
    "The random.choice() function will return a randomly selected item from the list."
   ]
  },
  {
   "cell_type": "code",
   "execution_count": 44,
   "id": "a1e709eb",
   "metadata": {},
   "outputs": [
    {
     "data": {
      "text/plain": [
       "'Moose'"
      ]
     },
     "execution_count": 44,
     "metadata": {},
     "output_type": "execute_result"
    }
   ],
   "source": [
    "import random\n",
    "pets = ['Dog', 'Cat', 'Moose']\n",
    "random.choice(pets)"
   ]
  },
  {
   "cell_type": "markdown",
   "id": "fa6a8967",
   "metadata": {},
   "source": [
    "***You can consider random.choice(someList) to be a shorter form of someList[random.randint(0, len(someList) – 1].\n"
   ]
  },
  {
   "cell_type": "raw",
   "id": "8a64de55",
   "metadata": {},
   "source": [
    "The random.shuffle() function will reorder the items in a list.\n",
    "This function modifies the list in place, rather than returning a new list."
   ]
  },
  {
   "cell_type": "code",
   "execution_count": 46,
   "id": "053bc14d",
   "metadata": {},
   "outputs": [
    {
     "name": "stdout",
     "output_type": "stream",
     "text": [
      "None\n"
     ]
    }
   ],
   "source": [
    "import random\n",
    "people = ['Alice', 'Bob', 'Carol', 'David']\n",
    "print(random.shuffle(people))"
   ]
  },
  {
   "cell_type": "code",
   "execution_count": 47,
   "id": "7dc10d9b",
   "metadata": {},
   "outputs": [
    {
     "data": {
      "text/plain": [
       "['Bob', 'Alice', 'David', 'Carol']"
      ]
     },
     "execution_count": 47,
     "metadata": {},
     "output_type": "execute_result"
    }
   ],
   "source": [
    "people"
   ]
  },
  {
   "cell_type": "code",
   "execution_count": 48,
   "id": "fbbb832f",
   "metadata": {},
   "outputs": [
    {
     "data": {
      "text/plain": [
       "'Hello, world!'"
      ]
     },
     "execution_count": 48,
     "metadata": {},
     "output_type": "execute_result"
    }
   ],
   "source": [
    "# The += operator can also do string and list concatenation, and the *= operator can do string and list replication.\n",
    "spam = 'Hello,'\n",
    "spam += ' world!'\n",
    "spam"
   ]
  },
  {
   "cell_type": "code",
   "execution_count": 49,
   "id": "636ad54f",
   "metadata": {},
   "outputs": [
    {
     "data": {
      "text/plain": [
       "['Zophie', 'Zophie', 'Zophie']"
      ]
     },
     "execution_count": 49,
     "metadata": {},
     "output_type": "execute_result"
    }
   ],
   "source": [
    "bacon = ['Zophie']\n",
    "bacon *= 3\n",
    "bacon"
   ]
  },
  {
   "cell_type": "markdown",
   "id": "47b718a7",
   "metadata": {},
   "source": [
    "## Methods"
   ]
  },
  {
   "cell_type": "markdown",
   "id": "3e1d15fc",
   "metadata": {},
   "source": [
    "1. A method is the same thing as a function, except it is “called on” a value. \n",
    "2. The method part comes after the value, separated by a period.\n",
    "3. Each data type has its own set of methods. The list data type, for example, has several useful methods for finding, adding, removing, and otherwise manipulating values in a list."
   ]
  },
  {
   "cell_type": "markdown",
   "id": "97565c53",
   "metadata": {},
   "source": [
    "#### Finding a Value in a List with the index() Method\n",
    "1. List values have an index() method that can be passed a value, and if that value exists in the list, the index of the value is returned. \n",
    "2. If the value isn’t in the list, then Python produces a ValueError error."
   ]
  },
  {
   "cell_type": "code",
   "execution_count": 2,
   "id": "b39b5c4d",
   "metadata": {},
   "outputs": [
    {
     "ename": "ValueError",
     "evalue": "'hello' is not in list",
     "output_type": "error",
     "traceback": [
      "\u001b[1;31m---------------------------------------------------------------------------\u001b[0m",
      "\u001b[1;31mValueError\u001b[0m                                Traceback (most recent call last)",
      "\u001b[1;32m~\\AppData\\Local\\Temp\\ipykernel_21320\\3565995485.py\u001b[0m in \u001b[0;36m<module>\u001b[1;34m\u001b[0m\n\u001b[0;32m      1\u001b[0m \u001b[0mspam\u001b[0m \u001b[1;33m=\u001b[0m \u001b[1;33m[\u001b[0m\u001b[1;34m'Alice'\u001b[0m\u001b[1;33m,\u001b[0m \u001b[1;34m'Bob'\u001b[0m\u001b[1;33m,\u001b[0m \u001b[1;34m'Carol'\u001b[0m\u001b[1;33m,\u001b[0m \u001b[1;34m'David'\u001b[0m\u001b[1;33m]\u001b[0m\u001b[1;33m\u001b[0m\u001b[1;33m\u001b[0m\u001b[0m\n\u001b[1;32m----> 2\u001b[1;33m \u001b[0mspam\u001b[0m\u001b[1;33m.\u001b[0m\u001b[0mindex\u001b[0m\u001b[1;33m(\u001b[0m\u001b[1;34m'hello'\u001b[0m\u001b[1;33m)\u001b[0m\u001b[1;33m\u001b[0m\u001b[1;33m\u001b[0m\u001b[0m\n\u001b[0m",
      "\u001b[1;31mValueError\u001b[0m: 'hello' is not in list"
     ]
    }
   ],
   "source": [
    "spam = ['Alice', 'Bob', 'Carol', 'David']\n",
    "spam.index('hello')"
   ]
  },
  {
   "cell_type": "code",
   "execution_count": 3,
   "id": "e2d8400c",
   "metadata": {},
   "outputs": [
    {
     "data": {
      "text/plain": [
       "2"
      ]
     },
     "execution_count": 3,
     "metadata": {},
     "output_type": "execute_result"
    }
   ],
   "source": [
    "spam.index('Carol')"
   ]
  },
  {
   "cell_type": "markdown",
   "id": "6f9c8c25",
   "metadata": {},
   "source": [
    "##### Adding Values to Lists with the append() and insert() Methods\n",
    "To add new values to a list, use the append() and insert() methods."
   ]
  },
  {
   "cell_type": "code",
   "execution_count": 4,
   "id": "04af3810",
   "metadata": {},
   "outputs": [
    {
     "data": {
      "text/plain": [
       "['cat', 'dog', 'bat', 'moose']"
      ]
     },
     "execution_count": 4,
     "metadata": {},
     "output_type": "execute_result"
    }
   ],
   "source": [
    "spam = ['cat', 'dog', 'bat']\n",
    "spam.append('moose')\n",
    "spam"
   ]
  },
  {
   "cell_type": "markdown",
   "id": "a1594258",
   "metadata": {},
   "source": [
    "1. The previous append() method call adds the argument to the end of the list.\n",
    "2. The insert() method can insert a value at any index in the list. \n",
    "3. The first argument to insert() is the index for the new value, and the sec\u0002ond argument is the new value to be inserted."
   ]
  },
  {
   "cell_type": "code",
   "execution_count": 5,
   "id": "7798a7ee",
   "metadata": {},
   "outputs": [
    {
     "data": {
      "text/plain": [
       "['cat', 'tiger', 'dog', 'bat']"
      ]
     },
     "execution_count": 5,
     "metadata": {},
     "output_type": "execute_result"
    }
   ],
   "source": [
    "spam = ['cat', 'dog', 'bat']\n",
    "spam.insert(1, 'tiger')\n",
    "spam"
   ]
  },
  {
   "cell_type": "markdown",
   "id": "b22cf21c",
   "metadata": {},
   "source": [
    "1. Notice that the code is spam.append('moose') and spam.insert(1, 'chicken'), not spam = spam.append('moose') and spam = spam.insert(1, 'chicken'). \n",
    "2. Neither append() nor insert() gives the new value of spam as its return value. \n",
    "3. (In fact, the return value of append() and insert() is None, so you definitely wouldn’t want to store this as the new variable value.) Rather, the list is modified in place. "
   ]
  },
  {
   "cell_type": "code",
   "execution_count": 6,
   "id": "47e673db",
   "metadata": {},
   "outputs": [
    {
     "name": "stdout",
     "output_type": "stream",
     "text": [
      "None\n"
     ]
    }
   ],
   "source": [
    "print(spam.insert(1, 'lion'))"
   ]
  },
  {
   "cell_type": "code",
   "execution_count": 7,
   "id": "8a4b55a3",
   "metadata": {},
   "outputs": [
    {
     "data": {
      "text/plain": [
       "['cat', 'lion', 'tiger', 'dog', 'bat']"
      ]
     },
     "execution_count": 7,
     "metadata": {},
     "output_type": "execute_result"
    }
   ],
   "source": [
    "spam"
   ]
  },
  {
   "cell_type": "markdown",
   "id": "4430d8e5",
   "metadata": {},
   "source": [
    "***Methods belong to a single data type. The append() and insert() methods are list methods and can be called only on list values, not on other values such as strings or integers."
   ]
  },
  {
   "cell_type": "code",
   "execution_count": 8,
   "id": "cdf8647a",
   "metadata": {},
   "outputs": [
    {
     "ename": "AttributeError",
     "evalue": "'str' object has no attribute 'append'",
     "output_type": "error",
     "traceback": [
      "\u001b[1;31m---------------------------------------------------------------------------\u001b[0m",
      "\u001b[1;31mAttributeError\u001b[0m                            Traceback (most recent call last)",
      "\u001b[1;32m~\\AppData\\Local\\Temp\\ipykernel_21320\\3759910952.py\u001b[0m in \u001b[0;36m<module>\u001b[1;34m\u001b[0m\n\u001b[0;32m      1\u001b[0m \u001b[0meggs\u001b[0m \u001b[1;33m=\u001b[0m \u001b[1;34m'hello'\u001b[0m\u001b[1;33m\u001b[0m\u001b[1;33m\u001b[0m\u001b[0m\n\u001b[1;32m----> 2\u001b[1;33m \u001b[0meggs\u001b[0m\u001b[1;33m.\u001b[0m\u001b[0mappend\u001b[0m\u001b[1;33m(\u001b[0m\u001b[1;34m'world'\u001b[0m\u001b[1;33m)\u001b[0m\u001b[1;33m\u001b[0m\u001b[1;33m\u001b[0m\u001b[0m\n\u001b[0m",
      "\u001b[1;31mAttributeError\u001b[0m: 'str' object has no attribute 'append'"
     ]
    }
   ],
   "source": [
    "eggs = 'hello'\n",
    "eggs.append('world')"
   ]
  },
  {
   "cell_type": "markdown",
   "id": "cc1e869b",
   "metadata": {},
   "source": [
    "### Removing Values from Lists with the remove() Method \n",
    "The remove() method is passed the value to be removed from the list it is called on.\n",
    "\n",
    "Attempting to delete a value that does not exist in the list will result in a ValueError error."
   ]
  },
  {
   "cell_type": "code",
   "execution_count": 10,
   "id": "e044be0b",
   "metadata": {},
   "outputs": [
    {
     "data": {
      "text/plain": [
       "['cat', 'lion', 'tiger', 'dog', 'bat']"
      ]
     },
     "execution_count": 10,
     "metadata": {},
     "output_type": "execute_result"
    }
   ],
   "source": [
    "spam"
   ]
  },
  {
   "cell_type": "code",
   "execution_count": 11,
   "id": "fe93ad17",
   "metadata": {},
   "outputs": [],
   "source": [
    "spam.remove('lion')"
   ]
  },
  {
   "cell_type": "code",
   "execution_count": 12,
   "id": "50a9c9e6",
   "metadata": {},
   "outputs": [
    {
     "data": {
      "text/plain": [
       "['cat', 'tiger', 'dog', 'bat']"
      ]
     },
     "execution_count": 12,
     "metadata": {},
     "output_type": "execute_result"
    }
   ],
   "source": [
    "spam"
   ]
  },
  {
   "cell_type": "code",
   "execution_count": 13,
   "id": "8287cbe6",
   "metadata": {},
   "outputs": [],
   "source": [
    "del spam[3]"
   ]
  },
  {
   "cell_type": "code",
   "execution_count": 14,
   "id": "dc0d0097",
   "metadata": {},
   "outputs": [
    {
     "data": {
      "text/plain": [
       "['cat', 'tiger', 'dog']"
      ]
     },
     "execution_count": 14,
     "metadata": {},
     "output_type": "execute_result"
    }
   ],
   "source": [
    "spam"
   ]
  },
  {
   "cell_type": "code",
   "execution_count": 15,
   "id": "91cdbd4a",
   "metadata": {},
   "outputs": [
    {
     "ename": "ValueError",
     "evalue": "list.remove(x): x not in list",
     "output_type": "error",
     "traceback": [
      "\u001b[1;31m---------------------------------------------------------------------------\u001b[0m",
      "\u001b[1;31mValueError\u001b[0m                                Traceback (most recent call last)",
      "\u001b[1;32m~\\AppData\\Local\\Temp\\ipykernel_21320\\296476771.py\u001b[0m in \u001b[0;36m<module>\u001b[1;34m\u001b[0m\n\u001b[1;32m----> 1\u001b[1;33m \u001b[0mspam\u001b[0m\u001b[1;33m.\u001b[0m\u001b[0mremove\u001b[0m\u001b[1;33m(\u001b[0m\u001b[1;34m'camel'\u001b[0m\u001b[1;33m)\u001b[0m\u001b[1;33m\u001b[0m\u001b[1;33m\u001b[0m\u001b[0m\n\u001b[0m",
      "\u001b[1;31mValueError\u001b[0m: list.remove(x): x not in list"
     ]
    }
   ],
   "source": [
    "spam.remove('camel')"
   ]
  },
  {
   "cell_type": "raw",
   "id": "8fb0e7a0",
   "metadata": {},
   "source": [
    "If the value appears multiple times in the list, only the first instance of the value will be removed.\n",
    "The del statement is good to use when you know the index of the value you want to remove from the list. \n",
    "The remove() method is useful when you know the value you want to remove from the list."
   ]
  },
  {
   "cell_type": "markdown",
   "id": "0410c5d6",
   "metadata": {},
   "source": [
    "#### Sorting the Values in a List with the sort() Method\n",
    "Lists of number values or lists of strings can be sorted with the sort()method.\n",
    "\n",
    "You can also pass True for the reverse keyword argument to have sort()sort the values in reverse order."
   ]
  },
  {
   "cell_type": "code",
   "execution_count": 16,
   "id": "e876dbbf",
   "metadata": {},
   "outputs": [
    {
     "data": {
      "text/plain": [
       "[-7, 1, 2, 3.14, 5]"
      ]
     },
     "execution_count": 16,
     "metadata": {},
     "output_type": "execute_result"
    }
   ],
   "source": [
    "spam = [2, 5, 3.14, 1, -7]\n",
    "spam.sort()\n",
    "spam"
   ]
  },
  {
   "cell_type": "code",
   "execution_count": 17,
   "id": "86fbdfea",
   "metadata": {},
   "outputs": [
    {
     "data": {
      "text/plain": [
       "['ants', 'badgers', 'cats', 'dogs', 'elephants']"
      ]
     },
     "execution_count": 17,
     "metadata": {},
     "output_type": "execute_result"
    }
   ],
   "source": [
    "spam = ['ants', 'cats', 'dogs', 'badgers', 'elephants']\n",
    "spam.sort()\n",
    "spam"
   ]
  },
  {
   "cell_type": "code",
   "execution_count": 18,
   "id": "8a7db7f9",
   "metadata": {},
   "outputs": [
    {
     "data": {
      "text/plain": [
       "['elephants', 'dogs', 'cats', 'badgers', 'ants']"
      ]
     },
     "execution_count": 18,
     "metadata": {},
     "output_type": "execute_result"
    }
   ],
   "source": [
    "spam = ['ants', 'cats', 'dogs', 'badgers', 'elephants']\n",
    "spam.sort(reverse=True)\n",
    "spam"
   ]
  },
  {
   "cell_type": "code",
   "execution_count": 20,
   "id": "d73e8139",
   "metadata": {},
   "outputs": [
    {
     "data": {
      "text/plain": [
       "['cats', 'dogs', 'badgers', 'elephants', 'ants and mosquitoes']"
      ]
     },
     "execution_count": 20,
     "metadata": {},
     "output_type": "execute_result"
    }
   ],
   "source": [
    "spam = ['ants and mosquitoes', 'cats', 'dogs', 'badgers', 'elephants']\n",
    "spam.sort(key=len) # print the elements based on the length in ascending order\n",
    "spam"
   ]
  },
  {
   "cell_type": "code",
   "execution_count": 21,
   "id": "2ff4bf4b",
   "metadata": {},
   "outputs": [
    {
     "data": {
      "text/plain": [
       "['ants and mosquitoes', 'elephants', 'badgers', 'cats', 'dogs']"
      ]
     },
     "execution_count": 21,
     "metadata": {},
     "output_type": "execute_result"
    }
   ],
   "source": [
    "spam = ['ants and mosquitoes', 'cats', 'dogs', 'badgers', 'elephants']\n",
    "spam.sort(key=len,reverse=True) # print the elements based on the length in descending order.\n",
    "spam"
   ]
  },
  {
   "cell_type": "markdown",
   "id": "f0e0ee95",
   "metadata": {},
   "source": [
    "##### There are three things you should note about the sort() method.\n",
    "1. First, the sort() method sorts the list in place; don’t try to capture the return value by writing code like spam = spam.sort().\n",
    "2. Second, you cannot sort lists that have both number values and string values in them, since Python doesn’t know how to compare these values.\n",
    "3. Third, sort() uses “ASCIIbetical order” rather than actual alphabetical order for sorting strings.\n",
    "4. This means uppercase letters come before lowercase letters. Therefore, the lowercase a is sorted so that it comes after the uppercase Z."
   ]
  },
  {
   "cell_type": "markdown",
   "id": "9ebc029f",
   "metadata": {},
   "source": [
    "***After sorting there won't be a new list as sorting took place in list itself\n",
    "If you need to sort the values in regular alphabetical order, pass str.lower for the key keyword argument in the sort() method call."
   ]
  },
  {
   "cell_type": "code",
   "execution_count": 23,
   "id": "cfa38dbc",
   "metadata": {},
   "outputs": [
    {
     "data": {
      "text/plain": [
       "['a', 'A', 'z', 'Z']"
      ]
     },
     "execution_count": 23,
     "metadata": {},
     "output_type": "execute_result"
    }
   ],
   "source": [
    "spam = ['a', 'z', 'A', 'Z']\n",
    "spam.sort(key=str.lower)\n",
    "# This causes the sort() function to treat all the items in the list as\n",
    "# if they were lowercase without actually changing the values in the list \n",
    "spam"
   ]
  },
  {
   "cell_type": "markdown",
   "id": "0ae31fc8",
   "metadata": {},
   "source": [
    "##### Reversing the Values in a List with the reverse() Method\n",
    "If you need to quickly reverse the order of the items in a list, you can call the reverse() list method."
   ]
  },
  {
   "cell_type": "code",
   "execution_count": 25,
   "id": "38b15e2c",
   "metadata": {},
   "outputs": [
    {
     "data": {
      "text/plain": [
       "['moose', 'dog', 'cat']"
      ]
     },
     "execution_count": 25,
     "metadata": {},
     "output_type": "execute_result"
    }
   ],
   "source": [
    "spam = ['cat', 'dog', 'moose']\n",
    "spam.reverse()\n",
    "spam"
   ]
  },
  {
   "cell_type": "markdown",
   "id": "b6916b7f",
   "metadata": {},
   "source": [
    "1. Lists can actually span several lines in the source code file.\n",
    "2. The indentation of these lines does not matter; Python knows that the list is not finished until it sees the ending square bracket."
   ]
  },
  {
   "cell_type": "code",
   "execution_count": 26,
   "id": "1496058b",
   "metadata": {},
   "outputs": [
    {
     "name": "stdout",
     "output_type": "stream",
     "text": [
      "['apples', 'oranges', 'bananas', 'cats']\n"
     ]
    }
   ],
   "source": [
    "spam = ['apples',\n",
    " 'oranges',\n",
    " 'bananas',\n",
    "'cats']\n",
    "print(spam)"
   ]
  },
  {
   "cell_type": "markdown",
   "id": "11264ca3",
   "metadata": {},
   "source": [
    "***You can also split up a single instruction across multiple lines using the \\ line continuation character at the end. \n",
    "Think of \\ as saying, “This instruction continues on the next line.” \n",
    "The indentation on the line after a \\ line continuation is not significant. For example, the following is valid Python code:\n"
   ]
  },
  {
   "cell_type": "code",
   "execution_count": 28,
   "id": "d6a94092",
   "metadata": {},
   "outputs": [
    {
     "name": "stdout",
     "output_type": "stream",
     "text": [
      "Four score and seven years ago...\n"
     ]
    }
   ],
   "source": [
    "print('Four score and seven ' + \\\n",
    " 'years ago...')\n",
    "#These tricks are useful when you want to rearrange long lines of Python code to be a bit more readable."
   ]
  },
  {
   "cell_type": "code",
   "execution_count": 29,
   "id": "af476d84",
   "metadata": {},
   "outputs": [
    {
     "data": {
      "text/plain": [
       "['apples', 'oranges', 'bananas', 'cats']"
      ]
     },
     "execution_count": 29,
     "metadata": {},
     "output_type": "execute_result"
    }
   ],
   "source": [
    "spam"
   ]
  },
  {
   "cell_type": "code",
   "execution_count": 32,
   "id": "7b71bd73",
   "metadata": {},
   "outputs": [
    {
     "name": "stdout",
     "output_type": "stream",
     "text": [
      "apples\n"
     ]
    }
   ],
   "source": [
    "import random\n",
    "print(spam[random.randint(0, len(spam) - 1)])"
   ]
  },
  {
   "cell_type": "markdown",
   "id": "70794a4f",
   "metadata": {},
   "source": [
    "### Sequence Data Types\n",
    "1. Lists aren’t the only data types that represent ordered sequences of values. \n",
    "2. For example, strings and lists are actually similar if you consider a string to be a “list” of single text characters.\n",
    "3. The Python sequence data types include lists, strings, range objects returned by range(), and tuples.\n",
    "4. Many of the things you can do with lists can also be done with strings and other values of sequence types: indexing; slicing; and using them with for loops, with len(), and with the in and not in operators. "
   ]
  },
  {
   "cell_type": "code",
   "execution_count": 33,
   "id": "a9825e2c",
   "metadata": {},
   "outputs": [
    {
     "data": {
      "text/plain": [
       "'I'"
      ]
     },
     "execution_count": 33,
     "metadata": {},
     "output_type": "execute_result"
    }
   ],
   "source": [
    "name = 'Indra'\n",
    "name[0]"
   ]
  },
  {
   "cell_type": "code",
   "execution_count": 34,
   "id": "bdfd4e73",
   "metadata": {},
   "outputs": [
    {
     "name": "stdout",
     "output_type": "stream",
     "text": [
      "I\n",
      "n\n",
      "d\n",
      "r\n",
      "a\n"
     ]
    }
   ],
   "source": [
    "for letter in name:\n",
    "    print(letter)"
   ]
  },
  {
   "cell_type": "code",
   "execution_count": 36,
   "id": "9e376eb5",
   "metadata": {},
   "outputs": [
    {
     "data": {
      "text/plain": [
       "'d'"
      ]
     },
     "execution_count": 36,
     "metadata": {},
     "output_type": "execute_result"
    }
   ],
   "source": [
    "name[-3]"
   ]
  },
  {
   "cell_type": "code",
   "execution_count": 37,
   "id": "5075e762",
   "metadata": {},
   "outputs": [
    {
     "data": {
      "text/plain": [
       "True"
      ]
     },
     "execution_count": 37,
     "metadata": {},
     "output_type": "execute_result"
    }
   ],
   "source": [
    "'ra' in name"
   ]
  },
  {
   "cell_type": "code",
   "execution_count": 38,
   "id": "fa4f54d8",
   "metadata": {},
   "outputs": [
    {
     "data": {
      "text/plain": [
       "'In'"
      ]
     },
     "execution_count": 38,
     "metadata": {},
     "output_type": "execute_result"
    }
   ],
   "source": [
    "name[0:2]"
   ]
  },
  {
   "cell_type": "markdown",
   "id": "1ffb51ca",
   "metadata": {},
   "source": [
    "#### Mutable and Immutable Data Types\n",
    "1. Lists and strings are different in an important way.\n",
    "2. A list value is a mutable data type: it can have values added, removed, or changed.\n",
    "3. However, a string is immutable: it cannot be changed.\n",
    "4. Trying to reassign a single character in a string results in a TypeError error."
   ]
  },
  {
   "cell_type": "code",
   "execution_count": 39,
   "id": "8db610ce",
   "metadata": {},
   "outputs": [
    {
     "ename": "TypeError",
     "evalue": "'str' object does not support item assignment",
     "output_type": "error",
     "traceback": [
      "\u001b[1;31m---------------------------------------------------------------------------\u001b[0m",
      "\u001b[1;31mTypeError\u001b[0m                                 Traceback (most recent call last)",
      "\u001b[1;32m~\\AppData\\Local\\Temp\\ipykernel_21320\\2212118727.py\u001b[0m in \u001b[0;36m<module>\u001b[1;34m\u001b[0m\n\u001b[0;32m      1\u001b[0m \u001b[0mname\u001b[0m \u001b[1;33m=\u001b[0m \u001b[1;34m'Zophie a cat'\u001b[0m\u001b[1;33m\u001b[0m\u001b[1;33m\u001b[0m\u001b[0m\n\u001b[1;32m----> 2\u001b[1;33m \u001b[0mname\u001b[0m\u001b[1;33m[\u001b[0m\u001b[1;36m7\u001b[0m\u001b[1;33m]\u001b[0m \u001b[1;33m=\u001b[0m \u001b[1;34m'the'\u001b[0m\u001b[1;33m\u001b[0m\u001b[1;33m\u001b[0m\u001b[0m\n\u001b[0m",
      "\u001b[1;31mTypeError\u001b[0m: 'str' object does not support item assignment"
     ]
    }
   ],
   "source": [
    "name = 'Zophie a cat'\n",
    "name[7] = 'the'"
   ]
  },
  {
   "cell_type": "markdown",
   "id": "766a7012",
   "metadata": {},
   "source": [
    "***The proper way to “mutate” a string is to use slicing and concatenation to build a new string by copying from parts of the old string. "
   ]
  },
  {
   "cell_type": "code",
   "execution_count": null,
   "id": "304f3670",
   "metadata": {},
   "outputs": [],
   "source": [
    "# see the page 94 chapter-4 for more understanding in clear way."
   ]
  },
  {
   "cell_type": "markdown",
   "id": "ddd57032",
   "metadata": {},
   "source": [
    "1. Tuples are different from lists is that tuples, like strings, are immutable. \n",
    "2. Tuples cannot have their values modified, appended, or removed"
   ]
  },
  {
   "cell_type": "code",
   "execution_count": 40,
   "id": "a06804dd",
   "metadata": {},
   "outputs": [
    {
     "ename": "TypeError",
     "evalue": "'tuple' object does not support item assignment",
     "output_type": "error",
     "traceback": [
      "\u001b[1;31m---------------------------------------------------------------------------\u001b[0m",
      "\u001b[1;31mTypeError\u001b[0m                                 Traceback (most recent call last)",
      "\u001b[1;32m~\\AppData\\Local\\Temp\\ipykernel_21320\\937341554.py\u001b[0m in \u001b[0;36m<module>\u001b[1;34m\u001b[0m\n\u001b[0;32m      1\u001b[0m \u001b[0meggs\u001b[0m \u001b[1;33m=\u001b[0m \u001b[1;33m(\u001b[0m\u001b[1;34m'hello'\u001b[0m\u001b[1;33m,\u001b[0m \u001b[1;36m42\u001b[0m\u001b[1;33m,\u001b[0m \u001b[1;36m0.5\u001b[0m\u001b[1;33m)\u001b[0m\u001b[1;33m\u001b[0m\u001b[1;33m\u001b[0m\u001b[0m\n\u001b[1;32m----> 2\u001b[1;33m \u001b[0meggs\u001b[0m\u001b[1;33m[\u001b[0m\u001b[1;36m1\u001b[0m\u001b[1;33m]\u001b[0m \u001b[1;33m=\u001b[0m \u001b[1;36m99\u001b[0m\u001b[1;33m\u001b[0m\u001b[1;33m\u001b[0m\u001b[0m\n\u001b[0m",
      "\u001b[1;31mTypeError\u001b[0m: 'tuple' object does not support item assignment"
     ]
    }
   ],
   "source": [
    "eggs = ('hello', 42, 0.5)\n",
    "eggs[1] = 99"
   ]
  },
  {
   "cell_type": "markdown",
   "id": "890ca4e4",
   "metadata": {},
   "source": [
    "1. If you have only one value in your tuple, you can indicate this by placing a trailing comma after the value inside the parentheses.\n",
    "2. Otherwise, Python will think you’ve just typed a value inside regular parentheses. \n",
    "3. The comma is what lets Python know this is a tuple value. "
   ]
  },
  {
   "cell_type": "code",
   "execution_count": 43,
   "id": "158cfdb2",
   "metadata": {},
   "outputs": [
    {
     "data": {
      "text/plain": [
       "tuple"
      ]
     },
     "execution_count": 43,
     "metadata": {},
     "output_type": "execute_result"
    }
   ],
   "source": [
    "type(('hello',))"
   ]
  },
  {
   "cell_type": "code",
   "execution_count": 44,
   "id": "7d4048f8",
   "metadata": {},
   "outputs": [
    {
     "data": {
      "text/plain": [
       "str"
      ]
     },
     "execution_count": 44,
     "metadata": {},
     "output_type": "execute_result"
    }
   ],
   "source": [
    "type(('hello'))"
   ]
  },
  {
   "cell_type": "markdown",
   "id": "b49b8b65",
   "metadata": {},
   "source": [
    "1. You can use tuples to convey to anyone reading your code that you don’t intend for that sequence of values to change.\n",
    "2. If you need an ordered sequence of values that never changes, use a tuple. \n",
    "3. A second benefit of using tuples instead of lists is that, because they are immutable and their contents don’t change, Python can implement some optimizations that make code using tuples slightly faster than code using lists.\n"
   ]
  },
  {
   "cell_type": "markdown",
   "id": "cf9dcb14",
   "metadata": {},
   "source": [
    "#### Converting Types with the list() and tuple() Functions\n",
    "Just like how str(42) will return '42', the string representation of the integer 42, the functions list() and tuple() will return list and tuple versions of the \n",
    "values passed to them."
   ]
  },
  {
   "cell_type": "code",
   "execution_count": 45,
   "id": "867940a7",
   "metadata": {},
   "outputs": [
    {
     "data": {
      "text/plain": [
       "('cat', 'dog', 5)"
      ]
     },
     "execution_count": 45,
     "metadata": {},
     "output_type": "execute_result"
    }
   ],
   "source": [
    "tuple(['cat', 'dog', 5])"
   ]
  },
  {
   "cell_type": "code",
   "execution_count": 46,
   "id": "a6e0393b",
   "metadata": {},
   "outputs": [
    {
     "data": {
      "text/plain": [
       "['cat', 'dog', 5]"
      ]
     },
     "execution_count": 46,
     "metadata": {},
     "output_type": "execute_result"
    }
   ],
   "source": [
    "list(('cat', 'dog', 5))"
   ]
  },
  {
   "cell_type": "code",
   "execution_count": 47,
   "id": "4e723de0",
   "metadata": {},
   "outputs": [
    {
     "data": {
      "text/plain": [
       "['h', 'e', 'l', 'l', 'o']"
      ]
     },
     "execution_count": 47,
     "metadata": {},
     "output_type": "execute_result"
    }
   ],
   "source": [
    "list('hello')"
   ]
  },
  {
   "cell_type": "markdown",
   "id": "5d7416c6",
   "metadata": {},
   "source": [
    "***Converting a tuple to a list is handy if you need a mutable version of a tuple value."
   ]
  },
  {
   "cell_type": "markdown",
   "id": "3a5d6512",
   "metadata": {},
   "source": [
    "### References\n",
    "1. As you’ve seen, variables “store” strings and integer values.\n",
    "2. However, this explanation is a simplification of what Python is actually doing. \n",
    "***Technically, variables are storing references to the computer memory locations where the values are stored. "
   ]
  },
  {
   "cell_type": "code",
   "execution_count": 48,
   "id": "c8d65760",
   "metadata": {},
   "outputs": [
    {
     "name": "stdout",
     "output_type": "stream",
     "text": [
      "42\n",
      "42\n",
      "50\n",
      "42\n"
     ]
    }
   ],
   "source": [
    "a=42\n",
    "b=a\n",
    "print(a)\n",
    "print(b)\n",
    "a=50\n",
    "print(a)\n",
    "print(b)"
   ]
  },
  {
   "cell_type": "code",
   "execution_count": 49,
   "id": "8a0b9d05",
   "metadata": {},
   "outputs": [
    {
     "data": {
      "text/plain": [
       "100"
      ]
     },
     "execution_count": 49,
     "metadata": {},
     "output_type": "execute_result"
    }
   ],
   "source": [
    "spam = 42\n",
    "cheese = spam\n",
    "spam = 100\n",
    "spam"
   ]
  },
  {
   "cell_type": "code",
   "execution_count": 50,
   "id": "a405d893",
   "metadata": {},
   "outputs": [
    {
     "data": {
      "text/plain": [
       "42"
      ]
     },
     "execution_count": 50,
     "metadata": {},
     "output_type": "execute_result"
    }
   ],
   "source": [
    "cheese"
   ]
  },
  {
   "cell_type": "markdown",
   "id": "c76c9d40",
   "metadata": {},
   "source": [
    "1. When you assign 42 to the spam variable, you are actually creating the 42 value in the computer’s memory and storing a reference to it in the spam variable.\n",
    "2. When you copy the value in spam and assign it to the variable cheese, you are actually copying the reference.\n",
    "3. Both the spam and cheese variables refer to the 42 value in the computer’s memory. \n",
    "4. When you later change the value in spam to 100, you’re creating a new 100 value and storing a reference to it in spam. \n",
    "5. This doesn’t affect the value in cheese. Integers are immutable values that don’t change; changing the spam variable is actually making it refer to a completely different value in memory."
   ]
  },
  {
   "cell_type": "markdown",
   "id": "559659a1",
   "metadata": {},
   "source": [
    "***But lists don’t work this way, because list values can change; that is,lists are mutable. Here is some code that will make this distinction easier to understand."
   ]
  },
  {
   "cell_type": "code",
   "execution_count": 51,
   "id": "05e671ee",
   "metadata": {},
   "outputs": [
    {
     "data": {
      "text/plain": [
       "[0, 'Hello!', 2, 3, 4, 5]"
      ]
     },
     "execution_count": 51,
     "metadata": {},
     "output_type": "execute_result"
    }
   ],
   "source": [
    "spam = [0, 1, 2, 3, 4, 5]\n",
    "cheese = spam # The reference is being copied, not the list.\n",
    "cheese[1] = 'Hello!' # This changes the list value.\n",
    "print(spam)\n",
    "print(cheese)"
   ]
  },
  {
   "cell_type": "code",
   "execution_count": 52,
   "id": "b96274bc",
   "metadata": {},
   "outputs": [
    {
     "data": {
      "text/plain": [
       "[0, 'Hello!', 2, 3, 4, 5]"
      ]
     },
     "execution_count": 52,
     "metadata": {},
     "output_type": "execute_result"
    }
   ],
   "source": [
    "cheese  # The cheese variable refers to the same list."
   ]
  },
  {
   "cell_type": "markdown",
   "id": "82938b0d",
   "metadata": {},
   "source": [
    "1. This might look odd to you. The code touched only the cheese list, but it seems that both the cheese and spam lists have changed.\n",
    "2. When you create the list , you assign a reference to it in the spam variable.\n",
    "3. But the next line  copies only the list reference in spam to cheese, not the list value itself.\n",
    "4. This means the values stored in spam and cheese now both refer to the same list. \n",
    "5. There is only one underlying list because the list itself was never actually copied.\n",
    "6. So when you modify the first element of cheese , you are modifying the same list that spam refers to."
   ]
  },
  {
   "cell_type": "raw",
   "id": "4c77ba56",
   "metadata": {},
   "source": [
    "List variables don’t actually contain lists—they contain references to lists. \n",
    "(These references will have ID numbers that Python uses internally, but you can ignore them.)"
   ]
  },
  {
   "cell_type": "code",
   "execution_count": 54,
   "id": "b03ef172",
   "metadata": {},
   "outputs": [],
   "source": [
    "# see textbook for much more clear understanding. Pictures are used in it.  pg no -98"
   ]
  },
  {
   "cell_type": "markdown",
   "id": "828311a0",
   "metadata": {},
   "source": [
    "### Identity and the id() Function\n",
    "1. You may be wondering why the weird behavior with mutable lists in the previous section doesn’t happen with immutable values like integers or strings. \n",
    "2. We can use Python’s id() function to understand this. All values in Python have a unique identity that can be obtained with the id() function."
   ]
  },
  {
   "cell_type": "code",
   "execution_count": 55,
   "id": "43f0d9d7",
   "metadata": {},
   "outputs": [
    {
     "data": {
      "text/plain": [
       "2374274519360"
      ]
     },
     "execution_count": 55,
     "metadata": {},
     "output_type": "execute_result"
    }
   ],
   "source": [
    "id(spam)"
   ]
  },
  {
   "cell_type": "code",
   "execution_count": 56,
   "id": "e9cf3772",
   "metadata": {},
   "outputs": [
    {
     "data": {
      "text/plain": [
       "2374274519360"
      ]
     },
     "execution_count": 56,
     "metadata": {},
     "output_type": "execute_result"
    }
   ],
   "source": [
    "id(cheese)"
   ]
  },
  {
   "cell_type": "markdown",
   "id": "77969545",
   "metadata": {},
   "source": [
    "***The numeric memory address where the value is stored is returned by the id() function. Python picks this address based on which memory bytes happen to be free on your computer at the time, so it’ll be different each time you run this code."
   ]
  },
  {
   "cell_type": "code",
   "execution_count": 57,
   "id": "5f7bf271",
   "metadata": {},
   "outputs": [
    {
     "data": {
      "text/plain": [
       "2374241029680"
      ]
     },
     "execution_count": 57,
     "metadata": {},
     "output_type": "execute_result"
    }
   ],
   "source": [
    "id('Howdy')"
   ]
  },
  {
   "cell_type": "raw",
   "id": "efe8a4cf",
   "metadata": {},
   "source": [
    "When Python runs id('Howdy'), it creates the 'Howdy' string in the computer’s memory. \n",
    "Like all strings, 'Howdy' is immutable and cannot be changed.\n",
    "If you “change” the string in a variable, a new string object is being made at a different place in memory, and the variable refers to this new string."
   ]
  },
  {
   "cell_type": "code",
   "execution_count": 58,
   "id": "eb4328e8",
   "metadata": {},
   "outputs": [
    {
     "name": "stdout",
     "output_type": "stream",
     "text": [
      "2374274398000\n",
      "2374273930352\n"
     ]
    }
   ],
   "source": [
    "a=\"raja\"\n",
    "print(id(a))\n",
    "b=a\n",
    "a=\"mahi\"\n",
    "print(id(a))"
   ]
  },
  {
   "cell_type": "code",
   "execution_count": 61,
   "id": "51d32337",
   "metadata": {},
   "outputs": [
    {
     "name": "stdout",
     "output_type": "stream",
     "text": [
      "2374274481200\n",
      "2374274507888\n"
     ]
    }
   ],
   "source": [
    "bacon = 'Hello'\n",
    "print(id(bacon))\n",
    "bacon += ' world!' # A new string is made from 'Hello' and ' world!'. \n",
    "print(id(bacon))# bacon now refers to a completely different string."
   ]
  },
  {
   "cell_type": "markdown",
   "id": "8506741e",
   "metadata": {},
   "source": [
    "1. However, lists can be modified because they are mutable objects.\n",
    "2. The append() method doesn’t create a new list object; it changes the existing list object. \n",
    "3. We call this “modifying the object in-place.”"
   ]
  },
  {
   "cell_type": "code",
   "execution_count": 62,
   "id": "3612d24e",
   "metadata": {},
   "outputs": [
    {
     "name": "stdout",
     "output_type": "stream",
     "text": [
      "2374274510720\n",
      "2374274510720\n",
      "2374274382592\n"
     ]
    }
   ],
   "source": [
    "eggs = ['cat', 'dog'] # This creates a new list.\n",
    "print(id(eggs))\n",
    "eggs.append('moose') # append() modifies the list \"in place\".\n",
    "print(id(eggs)) # eggs still refers to the same list as before.\n",
    "eggs = ['bat', 'rat', 'cow'] # This creates a new list, which has a new identity.\n",
    "print(id(eggs)) # eggs now refers to a completely different list."
   ]
  },
  {
   "cell_type": "markdown",
   "id": "a277df04",
   "metadata": {},
   "source": [
    "***The append(), extend(), remove(), sort(), reverse(), and other list methods modify their lists in place"
   ]
  },
  {
   "cell_type": "markdown",
   "id": "9e935817",
   "metadata": {},
   "source": [
    "1. Python’s automatic garbage collector deletes any values not being referred to by any variables to free up memory.\n",
    "2. You don’t need to worry about how the garbage collector works, which is a good thing: manual memory management in other programming languages is a common source of bugs."
   ]
  },
  {
   "cell_type": "markdown",
   "id": "32756519",
   "metadata": {},
   "source": [
    "## Passing References\n",
    "1. References are particularly important for understanding how arguments get passed to functions. When a function is called, the values of the arguments are copied to the parameter variables.\n",
    "2. For lists and dictionaries, , this means a copy of the reference is used for the parameter."
   ]
  },
  {
   "cell_type": "code",
   "execution_count": 9,
   "id": "74b27d55",
   "metadata": {},
   "outputs": [
    {
     "name": "stdout",
     "output_type": "stream",
     "text": [
      "2660196050176\n",
      "2660196050176\n",
      "[1, 2, 3, 'Hello']\n",
      "2660196050176\n",
      "[1, 2, 3, 'Hello']\n"
     ]
    }
   ],
   "source": [
    "def eggs(someParameter):\n",
    " print(id(someParameter))\n",
    " someParameter.append('Hello')\n",
    " print(someParameter)\n",
    " print(id(someParameter))\n",
    "spam = [1, 2, 3]\n",
    "print(id(spam))\n",
    "eggs(spam)\n",
    "print(spam)"
   ]
  },
  {
   "cell_type": "markdown",
   "id": "e38166fc",
   "metadata": {},
   "source": [
    "***Notice that when eggs() is called, a return value is not used to assign a new value to spam. Instead, it modifies the list in place, directly. "
   ]
  },
  {
   "cell_type": "raw",
   "id": "067e5181",
   "metadata": {},
   "source": [
    "Even though spam and someParameter contain separate references, they both refer to the same list.\n",
    "This is why the append('Hello') method call inside the function affects the list even after the function call has returned.\n",
    "Keep this behavior in mind: forgetting that Python handles list and dictionary variables this way can lead to confusing bugs."
   ]
  },
  {
   "cell_type": "markdown",
   "id": "d33915be",
   "metadata": {},
   "source": [
    "### The copy Module’s copy() and deepcopy() Functions\n",
    "1. Although passing around references is often the handiest way to deal with lists and dictionaries, if the function modifies the list or dictionary that is passed, you may not want these changes in the original list or dictionary value.\n",
    "2. For this, Python provides a module named copy that provides both the copy() and deepcopy() functions. The first of these, copy.copy(), can be used to make a duplicate copy of a mutable value like a list or dictionary, not just a copy of a reference. "
   ]
  },
  {
   "cell_type": "code",
   "execution_count": null,
   "id": "5b6ce8c7",
   "metadata": {},
   "outputs": [],
   "source": [
    "be careful that here: it works in different ways here. while assigning one way\n",
    "    while appending, it works on another way..\n",
    "for normal lists, one scenario will works\n",
    "and for nested lists, these copy module functions will work in the another way..\n",
    "\n",
    "don't get confuse.\n",
    "watch lecture from youtube Krish Naik....\n",
    "you will get more clear clarity....\n",
    "    "
   ]
  },
  {
   "cell_type": "markdown",
   "id": "1f6d4183",
   "metadata": {},
   "source": [
    "***in case of the normal list, whether we use deepcopy or the shallow copy, the original list doesn't changes here."
   ]
  },
  {
   "cell_type": "code",
   "execution_count": 3,
   "id": "d39ea443",
   "metadata": {},
   "outputs": [
    {
     "name": "stdout",
     "output_type": "stream",
     "text": [
      "normal list case: \n",
      "['A', 'B', 'C', 'D']\n",
      "['A', 'B', 'C', 'D']\n",
      "After appending\n",
      "old list is : ['A', 'B', 'C', 'D']\n",
      "new list is : ['A', 'B', 'C', 'D', 100]\n",
      "after changing value:\n",
      "old list is : ['A', 'B', 'C', 'D']\n",
      "new list is : ['A', 'B', 'C', 340, 100]\n"
     ]
    }
   ],
   "source": [
    "import copy\n",
    "print(\"normal list case: \")\n",
    "old_list = ['A', 'B', 'C', 'D']\n",
    "new_list=copy.copy(old_list) # in case of normal list........\n",
    "print(old_list)\n",
    "print(new_list)\n",
    "new_list.append(100) # append method doesn't make any changes irrespective of the any copy used. so don't consider it .\n",
    "# it appends only in the new_list only. append operation doesn't affect the original list no matter  what....\n",
    "print(\"After appending\")\n",
    "print(\"old list is :\",old_list)\n",
    "print(\"new list is :\",new_list)\n",
    "print(\"after changing value:\")\n",
    "new_list[3]=340\n",
    "print(\"old list is :\",old_list)\n",
    "print(\"new list is :\",new_list)"
   ]
  },
  {
   "cell_type": "code",
   "execution_count": 8,
   "id": "d509698b",
   "metadata": {},
   "outputs": [
    {
     "name": "stdout",
     "output_type": "stream",
     "text": [
      "normal list case: \n",
      "['A', 'B', 'C', 'D']\n",
      "['A', 'B', 'C', 'D']\n",
      "After appending\n",
      "old list is : ['A', 'B', 'C', 'D']\n",
      "new list is : ['A', 'B', 'C', 'D', 100]\n",
      "after changing value:\n",
      "old list is : ['A', 'B', 'C', 'D']\n",
      "new list is : ['A', 'B', 'C', 340, 100]\n"
     ]
    }
   ],
   "source": [
    "import copy\n",
    "print(\"normal list case: \")\n",
    "old_list = ['A', 'B', 'C', 'D']\n",
    "new_list=copy.deepcopy(old_list) # in case of normal list........\n",
    "print(old_list)\n",
    "print(new_list)\n",
    "new_list.append(100)\n",
    "print(\"After appending\")\n",
    "print(\"old list is :\",old_list)\n",
    "print(\"new list is :\",new_list)\n",
    "print(\"after changing value:\")\n",
    "new_list[3]=340\n",
    "print(\"old list is :\",old_list)\n",
    "print(\"new list is :\",new_list)"
   ]
  },
  {
   "cell_type": "code",
   "execution_count": null,
   "id": "78d938e3",
   "metadata": {},
   "outputs": [],
   "source": [
    "***in case of the nested list, if  we use  the shallow copy, the original list  changes here."
   ]
  },
  {
   "cell_type": "code",
   "execution_count": 6,
   "id": "435bc717",
   "metadata": {},
   "outputs": [
    {
     "name": "stdout",
     "output_type": "stream",
     "text": [
      "normal list case: \n",
      "['A', ['B', 'd', 'g'], 'C', 'D']\n",
      "['A', ['B', 'd', 'g'], 'C', 'D']\n",
      "After appending\n",
      "old list is : ['A', ['B', 'd', 'g'], 'C', 'D']\n",
      "new list is : ['A', ['B', 'd', 'g'], 'C', 'D', 100]\n",
      "after changing value:\n",
      "old list is : ['A', ['B', 'd', 340], 'C', 'D']\n",
      "new list is : ['A', ['B', 'd', 340], 'C', 'D', 100]\n"
     ]
    }
   ],
   "source": [
    "import copy\n",
    "print(\"nested list case: \")\n",
    "old_list = ['A', ['B','d','g'], 'C', 'D']\n",
    "new_list=copy.copy(old_list) # in case of nested list........\n",
    "print(old_list)\n",
    "print(new_list)\n",
    "new_list.append(100) # append methods changes in the list place itself. no difference for append operation\n",
    "print(\"After appending\")\n",
    "print(\"old list is :\",old_list)\n",
    "print(\"new list is :\",new_list)\n",
    "print(\"after changing value:\")\n",
    "new_list[1][2]=340 # here the difference will reflects....\n",
    "print(\"old list is :\",old_list)\n",
    "print(\"new list is :\",new_list)"
   ]
  },
  {
   "cell_type": "code",
   "execution_count": 9,
   "id": "e23ab7ea",
   "metadata": {},
   "outputs": [
    {
     "name": "stdout",
     "output_type": "stream",
     "text": [
      "nested list case: \n",
      "['A', ['B', 'd', 'g'], 'C', 'D']\n",
      "['A', ['B', 'd', 'g'], 'C', 'D']\n",
      "After appending\n",
      "old list is : ['A', ['B', 'd', 'g'], 'C', 'D']\n",
      "new list is : ['A', ['B', 'd', 'g'], 'C', 'D', 100]\n",
      "after changing value:\n",
      "old list is : ['A', ['B', 'd', 'g'], 'C', 'D']\n",
      "new list is : ['A', ['B', 'd', 340], 'C', 'D', 100]\n"
     ]
    }
   ],
   "source": [
    "import copy\n",
    "print(\"nested list case: \")\n",
    "old_list = ['A', ['B','d','g'], 'C', 'D']\n",
    "new_list=copy.deepcopy(old_list) # in case of nested list........\n",
    "print(old_list)\n",
    "print(new_list)\n",
    "new_list.append(100) # append methods changes in the list place itself. no difference for append operation\n",
    "print(\"After appending\")\n",
    "print(\"old list is :\",old_list)\n",
    "print(\"new list is :\",new_list)\n",
    "print(\"after changing value:\")\n",
    "new_list[1][2]=340 # here the difference will not  reflects....\n",
    "print(\"old list is :\",old_list)\n",
    "print(\"new list is :\",new_list)"
   ]
  },
  {
   "cell_type": "code",
   "execution_count": 12,
   "id": "2def7d29",
   "metadata": {},
   "outputs": [
    {
     "name": "stdout",
     "output_type": "stream",
     "text": [
      "Old list: [[1, 1, 1], [2, 2, 2], [3, 3, 3]]\n",
      "New list: [[1, 1, 1], [2, 2, 2], [3, 3, 3], [4, 4, 4]]\n"
     ]
    }
   ],
   "source": [
    "import copy\n",
    "\n",
    "old_list = [[1, 1, 1], [2, 2, 2], [3, 3, 3]]\n",
    "new_list = copy.copy(old_list)\n",
    "\n",
    "new_list.append([4, 4, 4]) # only in the new list even if we use deepcopy or the shallow copy....\n",
    "\n",
    "print(\"Old list:\", old_list)\n",
    "print(\"New list:\", new_list)"
   ]
  },
  {
   "cell_type": "code",
   "execution_count": 13,
   "id": "99c47c2e",
   "metadata": {},
   "outputs": [
    {
     "name": "stdout",
     "output_type": "stream",
     "text": [
      "Old list: [[1, 1, 1], [2, 2, 2], [3, 3, 3]]\n",
      "New list: [[1, 1, 1], [2, 2, 2], [3, 3, 3], [4, 4, 4]]\n"
     ]
    }
   ],
   "source": [
    "import copy\n",
    "\n",
    "old_list = [[1, 1, 1], [2, 2, 2], [3, 3, 3]]\n",
    "new_list = copy.deepcopy(old_list)\n",
    "\n",
    "new_list.append([4, 4, 4])\n",
    "\n",
    "print(\"Old list:\", old_list)\n",
    "print(\"New list:\", new_list)"
   ]
  },
  {
   "cell_type": "raw",
   "id": "ffe90241",
   "metadata": {},
   "source": [
    "If the list you need to copy contains lists, then use the copy.deepcopy() function instead of copy.copy(). \n",
    "The deepcopy() function will copy these inner lists as well."
   ]
  },
  {
   "cell_type": "code",
   "execution_count": 10,
   "id": "fdc07414",
   "metadata": {},
   "outputs": [
    {
     "name": "stdout",
     "output_type": "stream",
     "text": [
      "The original elements before deep copying\n",
      "1 2 [3, 5] 4 \r\n",
      "The new list of elements after deep copying \n",
      "1 2 [7, 5] 4 \r\n",
      "The original elements after deep copying\n",
      "1 2 [3, 5] 4 "
     ]
    }
   ],
   "source": [
    "# importing \"copy\" for copy operations\n",
    "import copy\n",
    " \n",
    "# initializing list 1\n",
    "li1 = [1, 2, [3,5], 4]\n",
    " \n",
    "# using deepcopy to deep copy\n",
    "li2 = copy.deepcopy(li1)\n",
    " \n",
    "# original elements of list\n",
    "print (\"The original elements before deep copying\")\n",
    "for i in range(0,len(li1)):\n",
    "    print (li1[i],end=\" \")\n",
    " \n",
    "print(\"\\r\")\n",
    " \n",
    "# adding and element to new list\n",
    "li2[2][0] = 7\n",
    " \n",
    "# Change is reflected in l2\n",
    "print (\"The new list of elements after deep copying \")\n",
    "for i in range(0,len( li1)):\n",
    "    print (li2[i],end=\" \")\n",
    " \n",
    "print(\"\\r\")\n",
    " \n",
    "# Change is NOT reflected in original list\n",
    "# as it is a deep copy\n",
    "print (\"The original elements after deep copying\")\n",
    "for i in range(0,len( li1)):\n",
    "    print (li1[i],end=\" \")"
   ]
  },
  {
   "cell_type": "code",
   "execution_count": 12,
   "id": "25b1c5b9",
   "metadata": {},
   "outputs": [
    {
     "name": "stdout",
     "output_type": "stream",
     "text": [
      "The original elements before shallow copying\n",
      "1 2 [3, 5] 4 \r\n",
      "The new list of elements after shallow copying \n",
      "1 2 [7, 5] 4 \r\n",
      "The original elements after shallow copying\n",
      "1 2 [7, 5] 4 "
     ]
    }
   ],
   "source": [
    "# importing \"copy\" for copy operations\n",
    "import copy\n",
    " \n",
    "# initializing list 1\n",
    "li1 = [1, 2, [3,5], 4]\n",
    " \n",
    "# using shallowcopy to  copy\n",
    "li2 = copy.copy(li1) # shallow copy \n",
    " \n",
    "# original elements of list\n",
    "print (\"The original elements before shallow copying\")\n",
    "for i in range(0,len(li1)):\n",
    "    print (li1[i],end=\" \")\n",
    " \n",
    "print(\"\\r\")\n",
    " \n",
    "# adding and element to new list\n",
    "li2[2][0] = 7\n",
    " \n",
    "# Change is reflected in l2\n",
    "print (\"The new list of elements after shallow copying \")\n",
    "for i in range(0,len( li1)):\n",
    "    print (li2[i],end=\" \")\n",
    " \n",
    "print(\"\\r\")\n",
    " \n",
    "# Change is  reflected in original list\n",
    "# as it is a shallow copy\n",
    "print (\"The original elements after shallow copying\")\n",
    "for i in range(0,len( li1)):\n",
    "    print (li1[i],end=\" \")"
   ]
  },
  {
   "cell_type": "code",
   "execution_count": null,
   "id": "9b29be34",
   "metadata": {},
   "outputs": [],
   "source": [
    "See youtube videos once for more clarification and learn from website..\n",
    "here it is little confusion ..\n",
    "need much more clarity..."
   ]
  },
  {
   "cell_type": "code",
   "execution_count": 24,
   "id": "ff031615",
   "metadata": {},
   "outputs": [
    {
     "name": "stdout",
     "output_type": "stream",
     "text": [
      "[0, 'Hello!', 2, 3, 4, 5]\n",
      "[0, 'Hello!', 2, 3, 4, 5]\n"
     ]
    }
   ],
   "source": [
    "# this is normally we are doing.  we haven't used the copy module here.\n",
    "spam = [0, 1, 2, 3, 4, 5]\n",
    "cheese = spam # The reference is being copied, not the list.\n",
    "cheese[1] = 'Hello!' # This changes the original list value also.\n",
    "print(spam)\n",
    "print(cheese)"
   ]
  },
  {
   "cell_type": "code",
   "execution_count": 7,
   "id": "b474e790",
   "metadata": {},
   "outputs": [
    {
     "name": "stdout",
     "output_type": "stream",
     "text": [
      "[0, 1, 2, 3, 4, 5]\n",
      "[0, 'Hello!', 2, 3, 4, 5]\n"
     ]
    }
   ],
   "source": [
    "# this is normally we are doing.  we haven't used the copy module here.\n",
    "spam = [0, 1, 2, 3, 4, 5]\n",
    "cheese = spam.copy() # this creates a separate copy here . so original list will not change\n",
    "cheese[1] = 'Hello!' \n",
    "print(spam)\n",
    "print(cheese)"
   ]
  },
  {
   "cell_type": "code",
   "execution_count": 27,
   "id": "b81def40",
   "metadata": {},
   "outputs": [
    {
     "name": "stdout",
     "output_type": "stream",
     "text": [
      "[0, 1, 2, 3, 4, 5]\n",
      "[0, 'Hello!', 2, 3, 4, 5]\n"
     ]
    }
   ],
   "source": [
    "import copy # in case of normal list,both deepcopy and shallow copy works in same way as separate copy is sent.\n",
    "spam = [0, 1, 2, 3, 4, 5]\n",
    "cheese = copy.deepcopy(spam) \n",
    "cheese[1] = 'Hello!'\n",
    "print(spam)\n",
    "print(cheese)"
   ]
  },
  {
   "cell_type": "raw",
   "id": "5ee0842c",
   "metadata": {},
   "source": [
    "https://www.programiz.com/python-programming/shallow-deep-copy"
   ]
  },
  {
   "cell_type": "code",
   "execution_count": 28,
   "id": "5a749739",
   "metadata": {},
   "outputs": [
    {
     "name": "stdout",
     "output_type": "stream",
     "text": [
      "[0, 1, 2, 3, 4, 5]\n",
      "[0, 'Hello!', 2, 3, 4, 5]\n"
     ]
    }
   ],
   "source": [
    "import copy\n",
    "spam = [0, 1, 2, 3, 4, 5]\n",
    "cheese = copy.copy(spam) \n",
    "cheese[1] = 'Hello!'\n",
    "print(spam)\n",
    "print(cheese)"
   ]
  },
  {
   "cell_type": "code",
   "execution_count": null,
   "id": "4c794888",
   "metadata": {},
   "outputs": [],
   "source": [
    "import copy\n",
    "\n",
    "old_list = [[1, 1, 1], [2, 2, 2], [3, 3, 3]]\n",
    "new_list = copy.copy(old_list)\n",
    "\n",
    "old_list.append([4, 4, 4])\n",
    "\n",
    "print(\"Old list:\", old_list)\n",
    "print(\"New list:\", new_list)"
   ]
  },
  {
   "cell_type": "code",
   "execution_count": 31,
   "id": "12162ef9",
   "metadata": {},
   "outputs": [
    {
     "name": "stdout",
     "output_type": "stream",
     "text": [
      "Old list: [[1, 1, 1], [2, 2, 2], [3, 3, 3], [4, 4, 4]]\n",
      "New list: [[1, 1, 1], [2, 2, 2], [3, 3, 3]]\n"
     ]
    }
   ],
   "source": [
    "import copy\n",
    "\n",
    "old_list = [[1, 1, 1], [2, 2, 2], [3, 3, 3]]\n",
    "new_list = copy.copy(old_list)\n",
    "\n",
    "old_list.append([4, 4, 4])\n",
    "\n",
    "print(\"Old list:\", old_list)\n",
    "print(\"New list:\", new_list)"
   ]
  },
  {
   "cell_type": "code",
   "execution_count": 30,
   "id": "624398cc",
   "metadata": {},
   "outputs": [
    {
     "name": "stdout",
     "output_type": "stream",
     "text": [
      "Old list: [[1, 1, 1], ['BB', 2, 2], [3, 3, 3]]\n",
      "New list: [[1, 1, 1], [2, 2, 2], [3, 3, 3]]\n"
     ]
    }
   ],
   "source": [
    "import copy\n",
    "\n",
    "old_list = [[1, 1, 1], [2, 2, 2], [3, 3, 3]]\n",
    "new_list = copy.deepcopy(old_list) # independent copy\n",
    "\n",
    "old_list[1][0] = 'BB'\n",
    "\n",
    "print(\"Old list:\", old_list)\n",
    "print(\"New list:\", new_list)"
   ]
  },
  {
   "cell_type": "code",
   "execution_count": 32,
   "id": "f3cd909b",
   "metadata": {},
   "outputs": [
    {
     "name": "stdout",
     "output_type": "stream",
     "text": [
      "Old list: [[1, 1, 1], [2, 'AA', 2], [3, 3, 3]]\n",
      "New list: [[1, 1, 1], [2, 'AA', 2], [3, 3, 3]]\n"
     ]
    }
   ],
   "source": [
    "import copy\n",
    "\n",
    "old_list = [[1, 1, 1], [2, 2, 2], [3, 3, 3]]\n",
    "new_list = copy.copy(old_list)\n",
    "\n",
    "old_list[1][1] = 'AA'\n",
    "\n",
    "print(\"Old list:\", old_list)\n",
    "print(\"New list:\", new_list)"
   ]
  },
  {
   "cell_type": "markdown",
   "id": "a78ec186",
   "metadata": {},
   "source": [
    "# Chapter-5\n",
    "## Dictionaries and Structuring data"
   ]
  },
  {
   "cell_type": "markdown",
   "id": "b769ca71",
   "metadata": {},
   "source": [
    "### The Dictionary Data Type\n",
    "1. Like a list, a dictionary is a mutable collection of many values.\n",
    "2. But unlike indexes for lists, indexes for dictionaries can use many different data types, not just integers. \n",
    "3. Indexes for dictionaries are called keys, and a key with its associated value is called a key-value pair.\n",
    "4. In code, a dictionary is typed with braces, {}."
   ]
  },
  {
   "cell_type": "code",
   "execution_count": 33,
   "id": "eab68e90",
   "metadata": {},
   "outputs": [],
   "source": [
    "myCat = {'size': 'fat', 'color': 'gray', 'disposition': 'loud'}"
   ]
  },
  {
   "cell_type": "code",
   "execution_count": 35,
   "id": "a61162a3",
   "metadata": {},
   "outputs": [
    {
     "data": {
      "text/plain": [
       "'fat'"
      ]
     },
     "execution_count": 35,
     "metadata": {},
     "output_type": "execute_result"
    }
   ],
   "source": [
    "myCat['size']"
   ]
  },
  {
   "cell_type": "code",
   "execution_count": 36,
   "id": "66182499",
   "metadata": {},
   "outputs": [
    {
     "ename": "KeyError",
     "evalue": "'name'",
     "output_type": "error",
     "traceback": [
      "\u001b[1;31m---------------------------------------------------------------------------\u001b[0m",
      "\u001b[1;31mKeyError\u001b[0m                                  Traceback (most recent call last)",
      "\u001b[1;32m~\\AppData\\Local\\Temp\\ipykernel_18228\\1485688910.py\u001b[0m in \u001b[0;36m<module>\u001b[1;34m\u001b[0m\n\u001b[1;32m----> 1\u001b[1;33m \u001b[0mmyCat\u001b[0m\u001b[1;33m[\u001b[0m\u001b[1;34m'name'\u001b[0m\u001b[1;33m]\u001b[0m\u001b[1;33m\u001b[0m\u001b[1;33m\u001b[0m\u001b[0m\n\u001b[0m",
      "\u001b[1;31mKeyError\u001b[0m: 'name'"
     ]
    }
   ],
   "source": [
    "myCat['name']"
   ]
  },
  {
   "cell_type": "markdown",
   "id": "b3f01a96",
   "metadata": {},
   "source": [
    "***Dictionaries can still use integer values as keys, just like lists use integers for indexes, but they do not have to start at 0 and can be any number."
   ]
  },
  {
   "cell_type": "code",
   "execution_count": 37,
   "id": "6557b0aa",
   "metadata": {},
   "outputs": [],
   "source": [
    "spam = {12345: 'Luggage Combination', 42: 'The Answer'}"
   ]
  },
  {
   "cell_type": "code",
   "execution_count": 38,
   "id": "2fb9171d",
   "metadata": {},
   "outputs": [
    {
     "data": {
      "text/plain": [
       "'Luggage Combination'"
      ]
     },
     "execution_count": 38,
     "metadata": {},
     "output_type": "execute_result"
    }
   ],
   "source": [
    "spam[12345]"
   ]
  },
  {
   "cell_type": "code",
   "execution_count": 39,
   "id": "44b6a6c1",
   "metadata": {},
   "outputs": [
    {
     "data": {
      "text/plain": [
       "'The Answer'"
      ]
     },
     "execution_count": 39,
     "metadata": {},
     "output_type": "execute_result"
    }
   ],
   "source": [
    "spam[42]"
   ]
  },
  {
   "cell_type": "markdown",
   "id": "58dfc7f2",
   "metadata": {},
   "source": [
    "### Dictionaries vs. Lists\n",
    "1. Unlike lists, items in dictionaries are unordered.\n",
    "2. The first item in a list named spam would be spam[0]. But there is no “first” item in a dictionary. \n",
    "3. While the order of items matters for determining whether two lists are the same, it does not matter in what order the key-value pairs are typed in a dictionary."
   ]
  },
  {
   "cell_type": "code",
   "execution_count": 40,
   "id": "95e2b9f8",
   "metadata": {},
   "outputs": [
    {
     "data": {
      "text/plain": [
       "False"
      ]
     },
     "execution_count": 40,
     "metadata": {},
     "output_type": "execute_result"
    }
   ],
   "source": [
    "spam = ['cats', 'dogs', 'moose']\n",
    "bacon = ['dogs', 'moose', 'cats']\n",
    "spam == bacon"
   ]
  },
  {
   "cell_type": "code",
   "execution_count": 41,
   "id": "6f897bc9",
   "metadata": {},
   "outputs": [
    {
     "data": {
      "text/plain": [
       "True"
      ]
     },
     "execution_count": 41,
     "metadata": {},
     "output_type": "execute_result"
    }
   ],
   "source": [
    "eggs = {'name': 'Zophie', 'species': 'cat', 'age': '8'}\n",
    "ham = {'species': 'cat', 'age': '8', 'name': 'Zophie'}\n",
    "eggs == ham"
   ]
  },
  {
   "cell_type": "raw",
   "id": "f1720eb7",
   "metadata": {},
   "source": [
    "Because dictionaries are not ordered, they can’t be sliced like lists.\n",
    "Trying to access a key that does not exist in a dictionary will result in a KeyError error message, much like a list’s “out-of-range” IndexError error message. "
   ]
  },
  {
   "cell_type": "markdown",
   "id": "de1b47ea",
   "metadata": {},
   "source": [
    "#### ORDERED DICTIONARIES IN PYTHON 3.7\n",
    "1. While they’re still not ordered and have no “first” key-value pair, dictionaries in Python 3.7 and later will remember the insertion order of their key-value pairs if you create a sequence value from them. \n",
    "2. For example, notice the order of items in the lists made from the eggs and ham dictionaries matches the order in which they were entered:"
   ]
  },
  {
   "cell_type": "code",
   "execution_count": 43,
   "id": "2015271d",
   "metadata": {},
   "outputs": [
    {
     "data": {
      "text/plain": [
       "['name', 'species', 'age']"
      ]
     },
     "execution_count": 43,
     "metadata": {},
     "output_type": "execute_result"
    }
   ],
   "source": [
    "eggs = {'name': 'Zophie', 'species': 'cat', 'age': '8'}\n",
    "list(eggs)"
   ]
  },
  {
   "cell_type": "code",
   "execution_count": 42,
   "id": "19bac618",
   "metadata": {},
   "outputs": [
    {
     "data": {
      "text/plain": [
       "['species', 'age', 'name']"
      ]
     },
     "execution_count": 42,
     "metadata": {},
     "output_type": "execute_result"
    }
   ],
   "source": [
    "ham = {'species': 'cat', 'age': '8', 'name': 'Zophie'}\n",
    "list(ham)"
   ]
  },
  {
   "cell_type": "raw",
   "id": "963d6ff0",
   "metadata": {},
   "source": [
    "The dictionaries are still unordered, as you can’t access items in them using integer indexes like eggs[0] or ham[2]. \n",
    "You shouldn’t rely on this behavior, as dictionaries in older versions of Python don’t remember the insertion order of key-value pairs.\n",
    "For example, notice how the list doesn’t match the insertion order of the dictionary’s key-value pairs when I run this code in Python 3.5:"
   ]
  },
  {
   "cell_type": "raw",
   "id": "81a48cc0",
   "metadata": {},
   "source": [
    "spam = {}\n",
    "spam['first key'] = 'value'\n",
    "spam['second key'] = 'value'\n",
    "spam['third key'] = 'value'\n",
    "list(spam)\n",
    "\n",
    "output:-\n",
    "['first key', 'third key', 'second key'] ## this is the result we get if we run in version 3.5"
   ]
  },
  {
   "cell_type": "markdown",
   "id": "57a1b22f",
   "metadata": {},
   "source": [
    "### The keys(), values(), and items() Methods\n",
    "1. There are three dictionary methods that will return list-like values of the dictionary’s keys, values, or both keys and values: keys(), values(), and items().  \n",
    "2. The values returned by these methods are not true lists: they cannot be modified and do not have an append() method.\n",
    "3. But these data types (dict_keys, dict_values, and dict_items, respectively) can be used in for loops. "
   ]
  },
  {
   "cell_type": "code",
   "execution_count": 46,
   "id": "617da9aa",
   "metadata": {},
   "outputs": [
    {
     "name": "stdout",
     "output_type": "stream",
     "text": [
      "red\n",
      "42\n"
     ]
    }
   ],
   "source": [
    "spam = {'color': 'red', 'age': 42}\n",
    "for v in spam.values():\n",
    " print(v)"
   ]
  },
  {
   "cell_type": "code",
   "execution_count": 47,
   "id": "21e20517",
   "metadata": {},
   "outputs": [
    {
     "name": "stdout",
     "output_type": "stream",
     "text": [
      "color\n",
      "age\n"
     ]
    }
   ],
   "source": [
    "spam = {'color': 'red', 'age': 42}\n",
    "for v in spam.keys():\n",
    " print(v)"
   ]
  },
  {
   "cell_type": "code",
   "execution_count": 48,
   "id": "39ee0973",
   "metadata": {},
   "outputs": [
    {
     "name": "stdout",
     "output_type": "stream",
     "text": [
      "('color', 'red')\n",
      "('age', 42)\n"
     ]
    }
   ],
   "source": [
    "spam = {'color': 'red', 'age': 42}\n",
    "for v in spam.items():\n",
    " print(v)"
   ]
  },
  {
   "cell_type": "code",
   "execution_count": 49,
   "id": "1513187f",
   "metadata": {},
   "outputs": [
    {
     "name": "stdout",
     "output_type": "stream",
     "text": [
      "color red\n",
      "age 42\n"
     ]
    }
   ],
   "source": [
    "spam = {'color': 'red', 'age': 42}\n",
    "# You can also use the multiple assignment trick in a for loop to assign the key and value to separate variables. \n",
    "for key,value in spam.items():\n",
    " print( key , value)"
   ]
  },
  {
   "cell_type": "raw",
   "id": "bcecd780",
   "metadata": {},
   "source": [
    "When you use the keys(), values(), and items() methods, a for loop can iterate over the keys, values, or key-value pairs in a dictionary, respectively.\n",
    "Notice that the values in the dict_items value returned by the items() method are tuples of the key and value."
   ]
  },
  {
   "cell_type": "markdown",
   "id": "db5f402a",
   "metadata": {},
   "source": [
    "***If you want a true list from one of these methods, pass its list-like return value to the list() function."
   ]
  },
  {
   "cell_type": "code",
   "execution_count": 51,
   "id": "0b1c3f6c",
   "metadata": {},
   "outputs": [
    {
     "name": "stdout",
     "output_type": "stream",
     "text": [
      "dict_keys(['color', 'age'])\n",
      "['color', 'age']\n"
     ]
    }
   ],
   "source": [
    "spam = {'color': 'red', 'age': 42}\n",
    "print(spam.keys())\n",
    "print(list(spam.keys()))\n",
    "# The list(spam.keys()) line takes the dict_keys value returned from keys() and passes it to list(), \n",
    "# which then returns a list value of ['color', 'age'].\n"
   ]
  },
  {
   "cell_type": "markdown",
   "id": "9c9e7bee",
   "metadata": {},
   "source": [
    "### Checking Whether a Key or Value Exists in a Dictionary"
   ]
  },
  {
   "cell_type": "code",
   "execution_count": 52,
   "id": "dd8bda94",
   "metadata": {},
   "outputs": [
    {
     "data": {
      "text/plain": [
       "True"
      ]
     },
     "execution_count": 52,
     "metadata": {},
     "output_type": "execute_result"
    }
   ],
   "source": [
    "spam = {'name': 'Zophie', 'age': 7}\n",
    "'name' in spam.keys()"
   ]
  },
  {
   "cell_type": "code",
   "execution_count": 53,
   "id": "3078d2d8",
   "metadata": {},
   "outputs": [
    {
     "data": {
      "text/plain": [
       "True"
      ]
     },
     "execution_count": 53,
     "metadata": {},
     "output_type": "execute_result"
    }
   ],
   "source": [
    "'Zophie' in spam.values()"
   ]
  },
  {
   "cell_type": "raw",
   "id": "fa59baa9",
   "metadata": {},
   "source": [
    "If you ever want to check whether a value is (or isn’t) a key in the dictionary, you can simply use the in (or not in) keyword with the dictionary value itself."
   ]
  },
  {
   "cell_type": "markdown",
   "id": "523dacec",
   "metadata": {},
   "source": [
    "### The get() Method\n",
    "It’s tedious to check whether a key exists in a dictionary before accessing that key’s value.\n",
    "\n",
    "Fortunately, dictionaries have a get() method that takes two \n",
    "arguments: the key of the value to retrieve and a fallback value to return if that key does not exist."
   ]
  },
  {
   "cell_type": "code",
   "execution_count": 54,
   "id": "260fe984",
   "metadata": {},
   "outputs": [
    {
     "name": "stdout",
     "output_type": "stream",
     "text": [
      "I am bringing 2 cups.\n"
     ]
    }
   ],
   "source": [
    "# if it is present,then it's corresponding value will be printed.\n",
    "picnicItems = {'apples': 5, 'cups': 2}\n",
    "print('I am bringing ' + str(picnicItems.get('cups', 0)) + ' cups.')"
   ]
  },
  {
   "cell_type": "code",
   "execution_count": 56,
   "id": "dad403bf",
   "metadata": {},
   "outputs": [
    {
     "name": "stdout",
     "output_type": "stream",
     "text": [
      "I am bringing 0 eggs.\n"
     ]
    }
   ],
   "source": [
    "# if it is not present, then the given default value(second argument in get) will be printed.\n",
    "print('I am bringing ' + str(picnicItems.get('eggs', 0)) + ' eggs.')\n",
    "# Because there is no 'eggs' key in the picnicItems dictionary, the default value 0 is returned by the get() method.\n",
    "# Without using get(), the code would have caused an error message, "
   ]
  },
  {
   "cell_type": "code",
   "execution_count": 57,
   "id": "17452acf",
   "metadata": {},
   "outputs": [
    {
     "ename": "KeyError",
     "evalue": "'eggs'",
     "output_type": "error",
     "traceback": [
      "\u001b[1;31m---------------------------------------------------------------------------\u001b[0m",
      "\u001b[1;31mKeyError\u001b[0m                                  Traceback (most recent call last)",
      "\u001b[1;32m~\\AppData\\Local\\Temp\\ipykernel_18228\\2486019301.py\u001b[0m in \u001b[0;36m<module>\u001b[1;34m\u001b[0m\n\u001b[0;32m      1\u001b[0m \u001b[0mpicnicItems\u001b[0m \u001b[1;33m=\u001b[0m \u001b[1;33m{\u001b[0m\u001b[1;34m'apples'\u001b[0m\u001b[1;33m:\u001b[0m \u001b[1;36m5\u001b[0m\u001b[1;33m,\u001b[0m \u001b[1;34m'cups'\u001b[0m\u001b[1;33m:\u001b[0m \u001b[1;36m2\u001b[0m\u001b[1;33m}\u001b[0m\u001b[1;33m\u001b[0m\u001b[1;33m\u001b[0m\u001b[0m\n\u001b[1;32m----> 2\u001b[1;33m \u001b[1;34m'I am bringing '\u001b[0m \u001b[1;33m+\u001b[0m \u001b[0mstr\u001b[0m\u001b[1;33m(\u001b[0m\u001b[0mpicnicItems\u001b[0m\u001b[1;33m[\u001b[0m\u001b[1;34m'eggs'\u001b[0m\u001b[1;33m]\u001b[0m\u001b[1;33m)\u001b[0m \u001b[1;33m+\u001b[0m \u001b[1;34m' eggs.'\u001b[0m\u001b[1;33m\u001b[0m\u001b[1;33m\u001b[0m\u001b[0m\n\u001b[0m",
      "\u001b[1;31mKeyError\u001b[0m: 'eggs'"
     ]
    }
   ],
   "source": [
    "picnicItems = {'apples': 5, 'cups': 2}\n",
    "'I am bringing ' + str(picnicItems['eggs']) + ' eggs.'"
   ]
  },
  {
   "cell_type": "markdown",
   "id": "d06cbdfc",
   "metadata": {},
   "source": [
    "#### The setdefault() Method\n",
    "You’ll often have to set a value in a dictionary for a certain key only if that key does not already have a value. "
   ]
  },
  {
   "cell_type": "code",
   "execution_count": 59,
   "id": "7dcae271",
   "metadata": {},
   "outputs": [
    {
     "data": {
      "text/plain": [
       "{'name': 'Pooja', 'age': 5, 'color': 'black'}"
      ]
     },
     "execution_count": 59,
     "metadata": {},
     "output_type": "execute_result"
    }
   ],
   "source": [
    "spam = {'name': 'Pooja', 'age': 5}\n",
    "if 'color' not in spam:\n",
    " spam['color'] = 'black'\n",
    "spam"
   ]
  },
  {
   "cell_type": "markdown",
   "id": "6b92a484",
   "metadata": {},
   "source": [
    "The setdefault() method offers a way to do this in one line of code.\n",
    "\n",
    "The first argument passed to the method is the key to check for, and the second argument is the value to set at that key if the key does not exist.\n",
    "\n",
    "If the key does exist, the setdefault() method returns the key’s value."
   ]
  },
  {
   "cell_type": "code",
   "execution_count": 64,
   "id": "78a3b195",
   "metadata": {},
   "outputs": [
    {
     "data": {
      "text/plain": [
       "{'name': 'Pooja', 'age': 5, 'color': 'black'}"
      ]
     },
     "execution_count": 64,
     "metadata": {},
     "output_type": "execute_result"
    }
   ],
   "source": [
    "spam = {'name': 'Pooja', 'age': 5}\n",
    "spam.setdefault('color', 'black')\n",
    "#The first time setdefault() is called, the dictionary in spam changes to {'color': 'black', 'age': 5, 'name': 'Pooja'}.\n",
    "spam"
   ]
  },
  {
   "cell_type": "code",
   "execution_count": 65,
   "id": "ce524a28",
   "metadata": {},
   "outputs": [
    {
     "data": {
      "text/plain": [
       "'black'"
      ]
     },
     "execution_count": 65,
     "metadata": {},
     "output_type": "execute_result"
    }
   ],
   "source": [
    "spam.setdefault('color', 'white')\n",
    "\n",
    "#When spam.setdefault('color', 'white') is called next, the value for that key is \n",
    "# not changed to 'white', because spam already has a key named 'color'."
   ]
  },
  {
   "cell_type": "code",
   "execution_count": 67,
   "id": "bbb13dc0",
   "metadata": {},
   "outputs": [
    {
     "data": {
      "text/plain": [
       "'rajaa'"
      ]
     },
     "execution_count": 67,
     "metadata": {},
     "output_type": "execute_result"
    }
   ],
   "source": [
    "spam = {'name': 'Pooja', 'age': 5}\n",
    "spam.setdefault('name2', 'rajaa')\n",
    "# The method returns the value 'rajaa' because this is now the value set for the key 'name2'."
   ]
  },
  {
   "cell_type": "markdown",
   "id": "88b3dedd",
   "metadata": {},
   "source": [
    "***The setdefault() method is a nice shortcut to ensure that a key exists. "
   ]
  },
  {
   "cell_type": "code",
   "execution_count": 69,
   "id": "23536540",
   "metadata": {},
   "outputs": [
    {
     "name": "stdout",
     "output_type": "stream",
     "text": [
      "{'I': 1, 't': 6, ' ': 13, 'w': 2, 'a': 4, 's': 3, 'b': 1, 'r': 5, 'i': 6, 'g': 2, 'h': 3, 'c': 3, 'o': 2, 'l': 3, 'd': 3, 'y': 1, 'n': 4, 'A': 1, 'p': 1, ',': 1, 'e': 5, 'k': 2, '.': 1}\n"
     ]
    }
   ],
   "source": [
    "# Here is a short program that counts the number of occurrences of each letter in a string.\n",
    "message = 'It was a bright cold day in April, and the clocks were striking thirteen.'\n",
    "count = {}\n",
    "for character in message:\n",
    "  count.setdefault(character, 0)\n",
    "  count[character] = count[character] + 1\n",
    "print(count) \n"
   ]
  },
  {
   "cell_type": "code",
   "execution_count": 71,
   "id": "338e37f0",
   "metadata": {},
   "outputs": [
    {
     "name": "stdout",
     "output_type": "stream",
     "text": [
      "{' ': 13,\n",
      " ',': 1,\n",
      " '.': 1,\n",
      " 'A': 1,\n",
      " 'I': 1,\n",
      " 'a': 4,\n",
      " 'b': 1,\n",
      " 'c': 3,\n",
      " 'd': 3,\n",
      " 'e': 5,\n",
      " 'g': 2,\n",
      " 'h': 3,\n",
      " 'i': 6,\n",
      " 'k': 2,\n",
      " 'l': 3,\n",
      " 'n': 4,\n",
      " 'o': 2,\n",
      " 'p': 1,\n",
      " 'r': 5,\n",
      " 's': 3,\n",
      " 't': 6,\n",
      " 'w': 2,\n",
      " 'y': 1}\n"
     ]
    }
   ],
   "source": [
    "import pprint\n",
    "message = 'It was a bright cold day in April, and the clocks were striking thirteen.'\n",
    "count = {}\n",
    "for character in message:\n",
    " count.setdefault(character, 0)\n",
    " count[character] = count[character] + 1\n",
    "pprint.pprint(count)"
   ]
  },
  {
   "cell_type": "markdown",
   "id": "1ade72f7",
   "metadata": {},
   "source": [
    "### Pretty Printing\n",
    "If you import the pprint module into your programs, you’ll have access to the pprint() and pformat() functions that will “pretty print” a dictionary’s values. \n",
    "\n",
    "This is helpful when you want a cleaner display of the items in a dictionary than what print() provides."
   ]
  },
  {
   "cell_type": "raw",
   "id": "c4653c2c",
   "metadata": {},
   "source": [
    "The pprint.pprint() function is especially helpful when the dictionary itself contains nested lists or dictionaries.\n",
    "If you want to obtain the prettified text as a string value instead of displaying it on the screen, call pprint.pformat() instead. These two lines are equivalent to each other:"
   ]
  },
  {
   "cell_type": "code",
   "execution_count": 73,
   "id": "8fcdef4d",
   "metadata": {},
   "outputs": [
    {
     "name": "stdout",
     "output_type": "stream",
     "text": [
      "{' ': 13,\n",
      " ',': 1,\n",
      " '.': 1,\n",
      " 'A': 1,\n",
      " 'I': 1,\n",
      " 'a': 4,\n",
      " 'b': 1,\n",
      " 'c': 3,\n",
      " 'd': 3,\n",
      " 'e': 5,\n",
      " 'g': 2,\n",
      " 'h': 3,\n",
      " 'i': 6,\n",
      " 'k': 2,\n",
      " 'l': 3,\n",
      " 'n': 4,\n",
      " 'o': 2,\n",
      " 'p': 1,\n",
      " 'r': 5,\n",
      " 's': 3,\n",
      " 't': 6,\n",
      " 'w': 2,\n",
      " 'y': 1}\n"
     ]
    }
   ],
   "source": [
    "print(pprint.pformat(count))"
   ]
  },
  {
   "cell_type": "markdown",
   "id": "ba421c72",
   "metadata": {},
   "source": [
    "# Chapter-6\n",
    "## Manipulating Strings"
   ]
  },
  {
   "cell_type": "markdown",
   "id": "17427d7e",
   "metadata": {},
   "source": [
    "### String Literals\n",
    "Typing string values in Python code is fairly straightforward: they begin and end with a single quote or double quotes.\n",
    "    \n",
    "One benefit of using double quotes is that the string can have a single quote character in it. \n",
    "\n",
    "However, if you need to use both single quotes and double quotes in the string, you’ll need to use escape characters."
   ]
  },
  {
   "cell_type": "markdown",
   "id": "17321bd1",
   "metadata": {},
   "source": [
    "#### Escape Characters\n",
    "1. An escape character lets you use characters that are otherwise impossible to put into a string.\n",
    "2. An escape character consists of a backslash (\\) followed by the character you want to add to the string.\n",
    "3. (Despite consisting of two characters, it is commonly referred to as a singular escape character.) \n",
    "4. For example, the escape character for a single quote is \\'.\n",
    "5. You can use this inside a string that begins and ends with single quotes. "
   ]
  },
  {
   "cell_type": "code",
   "execution_count": 15,
   "id": "7c85a5f5",
   "metadata": {},
   "outputs": [],
   "source": [
    " spam = 'Say hi to Bob\\'s mother.'"
   ]
  },
  {
   "cell_type": "code",
   "execution_count": 16,
   "id": "042d911b",
   "metadata": {},
   "outputs": [
    {
     "data": {
      "text/plain": [
       "\"Say hi to Bob's mother.\""
      ]
     },
     "execution_count": 16,
     "metadata": {},
     "output_type": "execute_result"
    }
   ],
   "source": [
    "spam"
   ]
  },
  {
   "cell_type": "code",
   "execution_count": 18,
   "id": "722c7b1a",
   "metadata": {},
   "outputs": [
    {
     "ename": "SyntaxError",
     "evalue": "invalid syntax (1344585994.py, line 1)",
     "output_type": "error",
     "traceback": [
      "\u001b[1;36m  File \u001b[1;32m\"C:\\Users\\Phanindra Reddy\\AppData\\Local\\Temp\\ipykernel_25932\\1344585994.py\"\u001b[1;36m, line \u001b[1;32m1\u001b[0m\n\u001b[1;33m    spam = 'Say hi to Bob's mother.'\u001b[0m\n\u001b[1;37m                          ^\u001b[0m\n\u001b[1;31mSyntaxError\u001b[0m\u001b[1;31m:\u001b[0m invalid syntax\n"
     ]
    }
   ],
   "source": [
    "spam = 'Say hi to Bob's mother.'\n",
    "print(spam)"
   ]
  },
  {
   "cell_type": "raw",
   "id": "5e2300e7",
   "metadata": {},
   "source": [
    "Python knows that since the single quote in Bob\\'s has a backslash, it is not a single quote meant to end the string value.\n",
    "The escape characters \\' and \\\"let you put single quotes and double quotes inside your strings, respectively."
   ]
  },
  {
   "cell_type": "raw",
   "id": "17fb4b3b",
   "metadata": {},
   "source": [
    "Escape character Prints as\n",
    "\\' Single quote\n",
    "\\\" Double quote\n",
    "\\t Tab\n",
    "\\n Newline (line break)\n",
    "\\\\ Backslash"
   ]
  },
  {
   "cell_type": "markdown",
   "id": "606f2540",
   "metadata": {},
   "source": [
    "### Raw Strings\n",
    "1. You can place an r before the beginning quotation mark of a string to make it a raw string.\n",
    "2. A raw string completely ignores all escape characters and prints any backslash that appears in the string."
   ]
  },
  {
   "cell_type": "code",
   "execution_count": 19,
   "id": "e2673330",
   "metadata": {},
   "outputs": [
    {
     "name": "stdout",
     "output_type": "stream",
     "text": [
      "That is Carol\\'s cat.\n"
     ]
    }
   ],
   "source": [
    " print(r'That is Carol\\'s cat.')"
   ]
  },
  {
   "cell_type": "raw",
   "id": "91d0d6ba",
   "metadata": {},
   "source": [
    "Because this is a raw string, Python considers the backslash as part of the string and not as the start of an escape character.\n",
    "\n",
    "Raw strings are helpful if you are typing string values that contain many backslashes, such as the strings used for Windows file paths like r'C:\\Users\\Al\\Desktop' or regular expressions described in the next chapter."
   ]
  },
  {
   "cell_type": "markdown",
   "id": "69290541",
   "metadata": {},
   "source": [
    "### A multiline string in Python \n",
    "It begins and ends with either three single quotes or three double quotes.\n",
    "\n",
    "Any quotes, tabs, or newlines in between the “triple quotes” are considered part of the string.\n",
    "\n",
    "Python’s indentation rules for blocks do not apply to lines inside a multiline string."
   ]
  },
  {
   "cell_type": "code",
   "execution_count": 21,
   "id": "cb397d44",
   "metadata": {},
   "outputs": [
    {
     "name": "stdout",
     "output_type": "stream",
     "text": [
      "Dear Alice,\n",
      "Eve's cat has been arrested for catnapping, cat burglary, and extortion.\n",
      "Sincerely,\n",
      "Bob\n"
     ]
    }
   ],
   "source": [
    "print('''Dear Alice,\n",
    "Eve's cat has been arrested for catnapping, cat burglary, and extortion.\n",
    "Sincerely,\n",
    "Bob''')\n",
    "#Notice that the single quote character in Eve's does not need to be escaped.\n",
    "#Escaping single and double quotes is optional in multiline strings."
   ]
  },
  {
   "cell_type": "markdown",
   "id": "0427d519",
   "metadata": {},
   "source": [
    "### Indexing and Slicing Strings\n",
    "1. Strings use indexes and slices the same way lists do. \n",
    "2. You can think of the string 'Hello, world!' as a list and each character in the string as an item with a corresponding index. "
   ]
  },
  {
   "cell_type": "code",
   "execution_count": 22,
   "id": "c620b623",
   "metadata": {},
   "outputs": [
    {
     "data": {
      "text/plain": [
       "','"
      ]
     },
     "execution_count": 22,
     "metadata": {},
     "output_type": "execute_result"
    }
   ],
   "source": [
    "spam = 'Hello, world!'\n",
    "spam[5]"
   ]
  },
  {
   "cell_type": "code",
   "execution_count": 23,
   "id": "f3419188",
   "metadata": {},
   "outputs": [
    {
     "data": {
      "text/plain": [
       "'o, wo'"
      ]
     },
     "execution_count": 23,
     "metadata": {},
     "output_type": "execute_result"
    }
   ],
   "source": [
    "spam[4:9]"
   ]
  },
  {
   "cell_type": "raw",
   "id": "f9e44a95",
   "metadata": {},
   "source": [
    "If you specify an index, you’ll get the character at that position in the string. \n",
    "If you specify a range from one index to another, the starting index is included and the ending index is not."
   ]
  },
  {
   "cell_type": "markdown",
   "id": "f3feaab4",
   "metadata": {},
   "source": [
    "***Note that slicing a string does not modify the original string. You can capture a slice from one variable in a separate variable."
   ]
  },
  {
   "cell_type": "markdown",
   "id": "7893d107",
   "metadata": {},
   "source": [
    "### The in and not in Operators with Strings\n",
    "1. The in and not in operators can be used with strings just like with list values. \n",
    "2. An expression with two strings joined using in or not in will evaluate to a Boolean True or False.\n",
    "3. These expressions test whether the first string (the exact string, case sensitive) can be found within the second string."
   ]
  },
  {
   "cell_type": "code",
   "execution_count": 24,
   "id": "83b490f6",
   "metadata": {},
   "outputs": [
    {
     "data": {
      "text/plain": [
       "False"
      ]
     },
     "execution_count": 24,
     "metadata": {},
     "output_type": "execute_result"
    }
   ],
   "source": [
    "'HELLO' in 'Hello, World'"
   ]
  },
  {
   "cell_type": "code",
   "execution_count": 25,
   "id": "a6333ac9",
   "metadata": {},
   "outputs": [
    {
     "data": {
      "text/plain": [
       "True"
      ]
     },
     "execution_count": 25,
     "metadata": {},
     "output_type": "execute_result"
    }
   ],
   "source": [
    "'' in 'spam'"
   ]
  },
  {
   "cell_type": "code",
   "execution_count": 26,
   "id": "b2a8d77e",
   "metadata": {},
   "outputs": [
    {
     "data": {
      "text/plain": [
       "False"
      ]
     },
     "execution_count": 26,
     "metadata": {},
     "output_type": "execute_result"
    }
   ],
   "source": [
    "'cats' not in 'cats and dogs'"
   ]
  },
  {
   "cell_type": "raw",
   "id": "905248cf",
   "metadata": {},
   "source": [
    "Putting Strings Inside Other Strings\n",
    "Putting strings inside other strings is a common operation in programming. So far, we’ve been using the + operator and string concatenation to do this:"
   ]
  },
  {
   "cell_type": "code",
   "execution_count": 28,
   "id": "13c809bb",
   "metadata": {},
   "outputs": [
    {
     "data": {
      "text/plain": [
       "'Hello, my name is Al. I am 4000 years old.'"
      ]
     },
     "execution_count": 28,
     "metadata": {},
     "output_type": "execute_result"
    }
   ],
   "source": [
    "name = 'Al'\n",
    "age = 4000\n",
    "'Hello, my name is ' + name + '. I am ' + str(age) + ' years old.' # However, this requires a lot of tedious typing."
   ]
  },
  {
   "cell_type": "markdown",
   "id": "b4b96946",
   "metadata": {},
   "source": [
    "## String Interpolation\n",
    "A simpler approach is to use string interpolation, in which the %s operator inside the string acts as a marker to be replaced by values following the string.\n",
    "\n",
    "One benefit of string interpolation is that str() doesn’t have to be called to convert values to strings."
   ]
  },
  {
   "cell_type": "code",
   "execution_count": 29,
   "id": "5b9ee13a",
   "metadata": {},
   "outputs": [
    {
     "data": {
      "text/plain": [
       "'My name is Al. I am 4000 years old.'"
      ]
     },
     "execution_count": 29,
     "metadata": {},
     "output_type": "execute_result"
    }
   ],
   "source": [
    "name = 'Al'\n",
    "age = 4000\n",
    "'My name is %s. I am %s years old.' % (name, age)"
   ]
  },
  {
   "cell_type": "markdown",
   "id": "32ff460a",
   "metadata": {},
   "source": [
    "Python 3.6 introduced f-strings, which is similar to string interpolation except that braces are used instead of %s, with the expressions placed directly inside the braces.\n",
    "\n",
    "Like raw strings, f-strings have an f prefix before the starting quotation mark. "
   ]
  },
  {
   "cell_type": "code",
   "execution_count": 30,
   "id": "86e012ba",
   "metadata": {},
   "outputs": [
    {
     "data": {
      "text/plain": [
       "'My name is Al. Next year I will be 4001.'"
      ]
     },
     "execution_count": 30,
     "metadata": {},
     "output_type": "execute_result"
    }
   ],
   "source": [
    "name = 'Al'\n",
    "age = 4000\n",
    "f'My name is {name}. Next year I will be {age + 1}.'\n"
   ]
  },
  {
   "cell_type": "markdown",
   "id": "79e9d9e2",
   "metadata": {},
   "source": [
    "#### mThe upper(), lower(), isupper(), and islower() Methods\n",
    "The upper() and lower() string methods return a new string where all the letters in the original string have been converted to uppercase or lowercase, respectively. \n",
    "\n",
    "Nonletter characters in the string remain unchanged."
   ]
  },
  {
   "cell_type": "code",
   "execution_count": 33,
   "id": "2ffc62ba",
   "metadata": {},
   "outputs": [
    {
     "data": {
      "text/plain": [
       "'HELLO, WORLD!'"
      ]
     },
     "execution_count": 33,
     "metadata": {},
     "output_type": "execute_result"
    }
   ],
   "source": [
    "spam = 'Hello, world!'\n",
    "spam = spam.upper()\n",
    "spam"
   ]
  },
  {
   "cell_type": "code",
   "execution_count": 34,
   "id": "6145f90f",
   "metadata": {},
   "outputs": [
    {
     "data": {
      "text/plain": [
       "'hello, world!'"
      ]
     },
     "execution_count": 34,
     "metadata": {},
     "output_type": "execute_result"
    }
   ],
   "source": [
    "spam = spam.lower()\n",
    "spam"
   ]
  },
  {
   "cell_type": "code",
   "execution_count": 35,
   "id": "276f315d",
   "metadata": {},
   "outputs": [
    {
     "name": "stdout",
     "output_type": "stream",
     "text": [
      "HELLO, WORLD!\n",
      "Hello, world!\n"
     ]
    }
   ],
   "source": [
    "spam = 'Hello, world!'\n",
    "print(spam.upper()) # not assigning back to the spam...\n",
    "print(spam)"
   ]
  },
  {
   "cell_type": "raw",
   "id": "46710d28",
   "metadata": {},
   "source": [
    "Note that these methods do not change the string itself but return new string values.\n",
    "If you want to change the original string, you have to \n",
    "call upper() or lower() on the string and then assign the new string to the variable where the original was stored. \n",
    "This is why you must use spam = spam.upper() to change the string in spam instead of simply spam.upper(). \n",
    "The upper() and lower() methods are helpful if you need to make a case\u0002insensitive comparison."
   ]
  },
  {
   "cell_type": "markdown",
   "id": "2ff71a7a",
   "metadata": {},
   "source": [
    "***The isupper() and islower() methods will return a Boolean True value if the string has at least one letter and all the letters are uppercase or lowercase, respectively. Otherwise, the method returns False. "
   ]
  },
  {
   "cell_type": "code",
   "execution_count": 38,
   "id": "99bcc2ed",
   "metadata": {},
   "outputs": [
    {
     "data": {
      "text/plain": [
       "False"
      ]
     },
     "execution_count": 38,
     "metadata": {},
     "output_type": "execute_result"
    }
   ],
   "source": [
    "spam = 'Hello, world!'\n",
    "spam.islower()"
   ]
  },
  {
   "cell_type": "code",
   "execution_count": 39,
   "id": "741ea556",
   "metadata": {},
   "outputs": [
    {
     "data": {
      "text/plain": [
       "True"
      ]
     },
     "execution_count": 39,
     "metadata": {},
     "output_type": "execute_result"
    }
   ],
   "source": [
    "'abc12345'.islower()"
   ]
  },
  {
   "cell_type": "code",
   "execution_count": 41,
   "id": "b4c1b8cb",
   "metadata": {},
   "outputs": [
    {
     "data": {
      "text/plain": [
       "True"
      ]
     },
     "execution_count": 41,
     "metadata": {},
     "output_type": "execute_result"
    }
   ],
   "source": [
    "'HELLO'.isupper()"
   ]
  },
  {
   "cell_type": "raw",
   "id": "c98a21f7",
   "metadata": {},
   "source": [
    "Since the upper() and lower() string methods themselves return strings, you can call string methods on those returned string values as well.\n",
    "Expressions that do this will look like a chain of method calls."
   ]
  },
  {
   "cell_type": "code",
   "execution_count": 43,
   "id": "46f43a50",
   "metadata": {},
   "outputs": [
    {
     "data": {
      "text/plain": [
       "'hello'"
      ]
     },
     "execution_count": 43,
     "metadata": {},
     "output_type": "execute_result"
    }
   ],
   "source": [
    "'Hello'.upper().lower()"
   ]
  },
  {
   "cell_type": "raw",
   "id": "a0649628",
   "metadata": {},
   "source": [
    "isalpha() Returns True if the string consists only of letters and isn’t blank\n",
    "isalnum() Returns True if the string consists only of letters and numbers and is not blank\n",
    "isdecimal() Returns True if the string consists only of numeric characters and is not blank\n",
    "isspace() Returns True if the string consists only of spaces, tabs, and newlines and is not blank\n",
    "istitle() Returns True if the string consists only of words that begin with an uppercase letter followed by only lowercase                 letters\n"
   ]
  },
  {
   "cell_type": "code",
   "execution_count": 45,
   "id": "1c217702",
   "metadata": {},
   "outputs": [
    {
     "name": "stdout",
     "output_type": "stream",
     "text": [
      "Enter your age:\n",
      "76\n",
      "Select a new password (letters and numbers only):\n",
      "74839\n"
     ]
    }
   ],
   "source": [
    "while True:\n",
    " print('Enter your age:')\n",
    " age = input()\n",
    " if age.isdecimal():\n",
    "     break\n",
    " print('Please enter a number for your age.')\n",
    "while True:\n",
    " print('Select a new password (letters and numbers only):')\n",
    " password = input()\n",
    " if password.isalnum():\n",
    "     break\n",
    " print('Passwords can only have letters and numbers.')"
   ]
  },
  {
   "cell_type": "markdown",
   "id": "a3835d2b",
   "metadata": {},
   "source": [
    "### The startswith() and endswith() Methods\n",
    "The startswith() and endswith() methods return True if the string value \n",
    "they are called on begins or ends (respectively) with the string passed \n",
    "to the method; otherwise, they return False."
   ]
  },
  {
   "cell_type": "code",
   "execution_count": 46,
   "id": "7ab13812",
   "metadata": {},
   "outputs": [
    {
     "data": {
      "text/plain": [
       "True"
      ]
     },
     "execution_count": 46,
     "metadata": {},
     "output_type": "execute_result"
    }
   ],
   "source": [
    "'Hello, world!'.startswith('Hello')"
   ]
  },
  {
   "cell_type": "code",
   "execution_count": 48,
   "id": "21e4b287",
   "metadata": {},
   "outputs": [
    {
     "data": {
      "text/plain": [
       "False"
      ]
     },
     "execution_count": 48,
     "metadata": {},
     "output_type": "execute_result"
    }
   ],
   "source": [
    "'abc123'.endswith('12')"
   ]
  },
  {
   "cell_type": "raw",
   "id": "14d59506",
   "metadata": {},
   "source": [
    "These methods are useful alternatives to the == equals operator if you need to check only whether the first or last part of the string, rather than the whole thing, is equal to another string"
   ]
  },
  {
   "cell_type": "markdown",
   "id": "b94a7d46",
   "metadata": {},
   "source": [
    "#### The join() and split() Methods\n",
    "The join() method is useful when you have a list of strings that need to be joined together into a single string value.\n",
    "\n",
    "1. The join() method is called on a string, gets passed a list of strings, and returns a string.\n",
    "2. The returned string is the concatenation of each string in the passed-in list."
   ]
  },
  {
   "cell_type": "code",
   "execution_count": 50,
   "id": "3132dd6c",
   "metadata": {},
   "outputs": [
    {
     "data": {
      "text/plain": [
       "'cats, rats, bats'"
      ]
     },
     "execution_count": 50,
     "metadata": {},
     "output_type": "execute_result"
    }
   ],
   "source": [
    "', '.join(['cats', 'rats', 'bats'])"
   ]
  },
  {
   "cell_type": "code",
   "execution_count": 51,
   "id": "47482dda",
   "metadata": {},
   "outputs": [
    {
     "data": {
      "text/plain": [
       "'My name is Simon'"
      ]
     },
     "execution_count": 51,
     "metadata": {},
     "output_type": "execute_result"
    }
   ],
   "source": [
    "' '.join(['My', 'name', 'is', 'Simon'])"
   ]
  },
  {
   "cell_type": "raw",
   "id": "59a4a687",
   "metadata": {},
   "source": [
    "Notice that the string join() calls on is inserted between each string of the list argument.\n",
    "For example, when join(['cats', 'rats', 'bats']) is called on the ', ' string, the returned string is 'cats, rats, bats'.\n",
    "Remember that join() is called on a string value and is passed a list value.\n",
    "(It’s easy to accidentally call it the other way around.)\n",
    "The split()method does the opposite: It’s called on a string value and returns a list of strings. "
   ]
  },
  {
   "cell_type": "code",
   "execution_count": 53,
   "id": "59c4840e",
   "metadata": {},
   "outputs": [
    {
     "data": {
      "text/plain": [
       "['My', 'name', 'is', 'Simon']"
      ]
     },
     "execution_count": 53,
     "metadata": {},
     "output_type": "execute_result"
    }
   ],
   "source": [
    "'My name is Simon'.split()"
   ]
  },
  {
   "cell_type": "raw",
   "id": "129a1397",
   "metadata": {},
   "source": [
    "By default, the string 'My name is Simon' is split wherever whitespace characters such as the space, tab, or newline characters are found.\n",
    "These whitespace characters are not included in the strings in the returned list.\n",
    "You can pass a delimiter string to the split() method to specify a different string to split upon. "
   ]
  },
  {
   "cell_type": "code",
   "execution_count": 55,
   "id": "47384b49",
   "metadata": {},
   "outputs": [
    {
     "data": {
      "text/plain": [
       "['My', 'name', 'is', 'Simon']"
      ]
     },
     "execution_count": 55,
     "metadata": {},
     "output_type": "execute_result"
    }
   ],
   "source": [
    "'MyABCnameABCisABCSimon'.split('ABC')"
   ]
  },
  {
   "cell_type": "markdown",
   "id": "1f17de9c",
   "metadata": {},
   "source": [
    "***A common use of split() is to split a multiline string along the newline characters."
   ]
  },
  {
   "cell_type": "code",
   "execution_count": 57,
   "id": "47230758",
   "metadata": {},
   "outputs": [
    {
     "data": {
      "text/plain": [
       "['Dear Alice,',\n",
       " 'How have you been? I am fine.',\n",
       " 'There is a container in the fridge',\n",
       " 'that is labeled \"Milk Experiment.\"',\n",
       " 'Please do not drink it.',\n",
       " 'Sincerely,',\n",
       " 'Bob']"
      ]
     },
     "execution_count": 57,
     "metadata": {},
     "output_type": "execute_result"
    }
   ],
   "source": [
    "spam = '''Dear Alice,\n",
    "How have you been? I am fine.\n",
    "There is a container in the fridge\n",
    "that is labeled \"Milk Experiment.\"\n",
    "Please do not drink it.\n",
    "Sincerely,\n",
    "Bob'''\n",
    "spam.split('\\n')\n",
    "# Passing split() the argument '\\n' lets us split the multiline string stored in spam along the newlines and\n",
    "# return a list in which each item corresponds to one line of the string.\n"
   ]
  },
  {
   "cell_type": "markdown",
   "id": "2c9bb4ba",
   "metadata": {},
   "source": [
    "### Splitting Strings with the partition() Method\n",
    "The partition() string method can split a string into the text before and after a separator string.\n",
    "\n",
    "This method searches the string it is called on for the separator string it is passed, and returns a tuple of three substrings \n",
    "for the “before,” “separator,” and “after” substrings. "
   ]
  },
  {
   "cell_type": "code",
   "execution_count": 2,
   "id": "43b7d948",
   "metadata": {},
   "outputs": [
    {
     "data": {
      "text/plain": [
       "('Hello, ', 'w', 'orld!')"
      ]
     },
     "execution_count": 2,
     "metadata": {},
     "output_type": "execute_result"
    }
   ],
   "source": [
    "'Hello, world!'.partition('w')"
   ]
  },
  {
   "cell_type": "code",
   "execution_count": 3,
   "id": "02dc08c2",
   "metadata": {},
   "outputs": [
    {
     "data": {
      "text/plain": [
       "('Hello, ', 'world', '!')"
      ]
     },
     "execution_count": 3,
     "metadata": {},
     "output_type": "execute_result"
    }
   ],
   "source": [
    "'Hello, world!'.partition('world')"
   ]
  },
  {
   "cell_type": "raw",
   "id": "001715b7",
   "metadata": {},
   "source": [
    "If the separator string you pass to partition() occurs multiple times in the string that partition() calls on, the method splits the string only on the first occurrence:"
   ]
  },
  {
   "cell_type": "code",
   "execution_count": 5,
   "id": "9bd724fa",
   "metadata": {},
   "outputs": [
    {
     "data": {
      "text/plain": [
       "('Hell', 'o', ', world!')"
      ]
     },
     "execution_count": 5,
     "metadata": {},
     "output_type": "execute_result"
    }
   ],
   "source": [
    "'Hello, world!'.partition('o')"
   ]
  },
  {
   "cell_type": "markdown",
   "id": "87733b18",
   "metadata": {},
   "source": [
    "***If the separator string can’t be found, the first string returned in the tuple will be the entire string, and the other two strings will be empty:"
   ]
  },
  {
   "cell_type": "code",
   "execution_count": 7,
   "id": "71780ae7",
   "metadata": {},
   "outputs": [],
   "source": [
    "# You can use the multiple assignment trick to assign the three returned strings to three variables:\n",
    "before, sep, after = 'Hello, world!'.partition(' ')"
   ]
  },
  {
   "cell_type": "code",
   "execution_count": 12,
   "id": "1506be42",
   "metadata": {},
   "outputs": [
    {
     "name": "stdout",
     "output_type": "stream",
     "text": [
      "Hello,   world!\n"
     ]
    }
   ],
   "source": [
    "print(before,sep,after)"
   ]
  },
  {
   "cell_type": "markdown",
   "id": "65c49f76",
   "metadata": {},
   "source": [
    "***The partition() method is useful for splitting a string whenever you need the parts before, including, and after a particular separator string."
   ]
  },
  {
   "cell_type": "markdown",
   "id": "b4c835f3",
   "metadata": {},
   "source": [
    "#### Justifying Text with the rjust(), ljust(), and center() Methods\n",
    "1. The rjust() and ljust() string methods return a padded version of the string they are called on, with spaces inserted to justify the text.\n",
    "2. The first argument to both methods is an integer length for the justified string."
   ]
  },
  {
   "cell_type": "code",
   "execution_count": 15,
   "id": "87815427",
   "metadata": {},
   "outputs": [
    {
     "data": {
      "text/plain": [
       "'     Hello'"
      ]
     },
     "execution_count": 15,
     "metadata": {},
     "output_type": "execute_result"
    }
   ],
   "source": [
    "'Hello'.rjust(10)"
   ]
  },
  {
   "cell_type": "code",
   "execution_count": 16,
   "id": "bc7acda1",
   "metadata": {},
   "outputs": [
    {
     "data": {
      "text/plain": [
       "'               Hello'"
      ]
     },
     "execution_count": 16,
     "metadata": {},
     "output_type": "execute_result"
    }
   ],
   "source": [
    "'Hello'.rjust(20)"
   ]
  },
  {
   "cell_type": "code",
   "execution_count": 17,
   "id": "a046b3eb",
   "metadata": {},
   "outputs": [
    {
     "data": {
      "text/plain": [
       "'        Hello, World'"
      ]
     },
     "execution_count": 17,
     "metadata": {},
     "output_type": "execute_result"
    }
   ],
   "source": [
    "'Hello, World'.rjust(20)"
   ]
  },
  {
   "cell_type": "code",
   "execution_count": 18,
   "id": "eb8d03ae",
   "metadata": {},
   "outputs": [
    {
     "data": {
      "text/plain": [
       "'Hello     '"
      ]
     },
     "execution_count": 18,
     "metadata": {},
     "output_type": "execute_result"
    }
   ],
   "source": [
    "'Hello'.ljust(10)"
   ]
  },
  {
   "cell_type": "raw",
   "id": "27daeb63",
   "metadata": {},
   "source": [
    "'Hello'.rjust(10) says that we want to right-justify 'Hello' in a string of total length 10.\n",
    "'Hello' is five characters, so five spaces will be added to its left, giving us a string of 10 characters with 'Hello' justified right.\n",
    "An optional second argument to rjust() and ljust() will specify a fill character other than a space character"
   ]
  },
  {
   "cell_type": "code",
   "execution_count": 20,
   "id": "5f6dab62",
   "metadata": {},
   "outputs": [
    {
     "data": {
      "text/plain": [
       "'***************Hello'"
      ]
     },
     "execution_count": 20,
     "metadata": {},
     "output_type": "execute_result"
    }
   ],
   "source": [
    "'Hello'.rjust(20, '*')"
   ]
  },
  {
   "cell_type": "code",
   "execution_count": 21,
   "id": "6d4cacf5",
   "metadata": {},
   "outputs": [
    {
     "data": {
      "text/plain": [
       "'Hello---------------'"
      ]
     },
     "execution_count": 21,
     "metadata": {},
     "output_type": "execute_result"
    }
   ],
   "source": [
    "'Hello'.ljust(20, '-')"
   ]
  },
  {
   "cell_type": "markdown",
   "id": "7e160fed",
   "metadata": {},
   "source": [
    "***The center() string method works like ljust() and rjust() but centers the text rather than justifying it to the left or right."
   ]
  },
  {
   "cell_type": "code",
   "execution_count": 24,
   "id": "2028b423",
   "metadata": {},
   "outputs": [
    {
     "data": {
      "text/plain": [
       "'       Hello        '"
      ]
     },
     "execution_count": 24,
     "metadata": {},
     "output_type": "execute_result"
    }
   ],
   "source": [
    "'Hello'.center(20)"
   ]
  },
  {
   "cell_type": "code",
   "execution_count": 25,
   "id": "c3f62fe2",
   "metadata": {},
   "outputs": [
    {
     "data": {
      "text/plain": [
       "'=======Hello========'"
      ]
     },
     "execution_count": 25,
     "metadata": {},
     "output_type": "execute_result"
    }
   ],
   "source": [
    "'Hello'.center(20, '=')"
   ]
  },
  {
   "cell_type": "raw",
   "id": "aa85e8f1",
   "metadata": {},
   "source": [
    "These methods are especially useful when you need to print tabular data that has correct spacing."
   ]
  },
  {
   "cell_type": "code",
   "execution_count": 29,
   "id": "9c66e88a",
   "metadata": {},
   "outputs": [
    {
     "name": "stdout",
     "output_type": "stream",
     "text": [
      "---PICNIC ITEMS--\n",
      "sandwiches 4\n",
      "sandwiches..    4\n",
      "apples 12\n",
      "apples......   12\n",
      "cups 4\n",
      "cups........    4\n",
      "cookies 8000\n",
      "cookies..... 8000\n",
      "-------PICNIC ITEMS-------\n",
      "sandwiches 4\n",
      "sandwiches..........     4\n",
      "apples 12\n",
      "apples..............    12\n",
      "cups 4\n",
      "cups................     4\n",
      "cookies 8000\n",
      "cookies.............  8000\n"
     ]
    }
   ],
   "source": [
    "def printPicnic(itemsDict, leftWidth, rightWidth):\n",
    " print('PICNIC ITEMS'.center(leftWidth + rightWidth, '-'))\n",
    " for k, v in itemsDict.items():\n",
    "     print(k,v)\n",
    "     print(k.ljust(leftWidth, '.') + str(v).rjust(rightWidth))\n",
    "picnicItems = {'sandwiches': 4, 'apples': 12, 'cups': 4, 'cookies': 8000}\n",
    "printPicnic(picnicItems, 12, 5)\n",
    "printPicnic(picnicItems, 20, 6)"
   ]
  },
  {
   "cell_type": "raw",
   "id": "e115f71c",
   "metadata": {},
   "source": [
    "Using rjust(), ljust(), and center() lets you ensure that strings are neatly aligned, even if you aren’t sure how many characters long your strings are."
   ]
  },
  {
   "cell_type": "markdown",
   "id": "96f4754b",
   "metadata": {},
   "source": [
    "#### Removing Whitespace with the strip(), rstrip(), and lstrip() Methods"
   ]
  },
  {
   "cell_type": "raw",
   "id": "83d019f0",
   "metadata": {},
   "source": [
    "Sometimes you may want to strip off whitespace characters (space, tab, and newline) from the left side, right side, or both sides of a string.\n",
    "The strip()string method will return a new string without any whitespace characters at the beginning or end. The lstrip() and rstrip() methods will remove whitespace characters from the left and right ends, respectively."
   ]
  },
  {
   "cell_type": "code",
   "execution_count": 32,
   "id": "af339f85",
   "metadata": {},
   "outputs": [
    {
     "data": {
      "text/plain": [
       "'Hello, World'"
      ]
     },
     "execution_count": 32,
     "metadata": {},
     "output_type": "execute_result"
    }
   ],
   "source": [
    "spam = ' Hello, World '\n",
    "spam.strip()"
   ]
  },
  {
   "cell_type": "code",
   "execution_count": 33,
   "id": "f6641f66",
   "metadata": {},
   "outputs": [
    {
     "data": {
      "text/plain": [
       "'Hello, World '"
      ]
     },
     "execution_count": 33,
     "metadata": {},
     "output_type": "execute_result"
    }
   ],
   "source": [
    "spam.lstrip()"
   ]
  },
  {
   "cell_type": "code",
   "execution_count": 34,
   "id": "7b84abb6",
   "metadata": {},
   "outputs": [
    {
     "data": {
      "text/plain": [
       "' Hello, World'"
      ]
     },
     "execution_count": 34,
     "metadata": {},
     "output_type": "execute_result"
    }
   ],
   "source": [
    "spam.rstrip()"
   ]
  },
  {
   "cell_type": "markdown",
   "id": "062591d8",
   "metadata": {},
   "source": [
    "***Optionally, a string argument will specify which characters on the ends should be stripped. "
   ]
  },
  {
   "cell_type": "code",
   "execution_count": 36,
   "id": "38865a5c",
   "metadata": {},
   "outputs": [
    {
     "data": {
      "text/plain": [
       "'BaconSpamEggs'"
      ]
     },
     "execution_count": 36,
     "metadata": {},
     "output_type": "execute_result"
    }
   ],
   "source": [
    "spam = 'SpamSpamBaconSpamEggsSpamSpam'\n",
    "spam.strip('ampS')"
   ]
  },
  {
   "cell_type": "raw",
   "id": "73727827",
   "metadata": {},
   "source": [
    "Passing strip() the argument 'ampS' will tell it to strip occurrences of a, m, p, and capital S from the ends of the string stored in spam.\n",
    "The order of the characters in the string passed to strip() does not matter: strip('ampS')will do the same thing as strip('mapS') or strip('Spam')."
   ]
  },
  {
   "cell_type": "markdown",
   "id": "3861202c",
   "metadata": {},
   "source": [
    "#### Numeric Values of Characters with the ord() and chr() Functions\n",
    "1. Computers store information as bytes—strings of binary numbers, which means we need to be able to convert text to numbers. \n",
    "2. Because of this, every text character has a corresponding numeric value called a Unicode code point. \n",
    "3. For example, the numeric code point is 65 for 'A', 52 for '4', and 33 for '!'. \n",
    "4. You can use the ord() function to get the code point of a one-character string, and the chr() function to get the one-character string of an integer code point. "
   ]
  },
  {
   "cell_type": "code",
   "execution_count": 39,
   "id": "0b0b66f7",
   "metadata": {},
   "outputs": [
    {
     "data": {
      "text/plain": [
       "65"
      ]
     },
     "execution_count": 39,
     "metadata": {},
     "output_type": "execute_result"
    }
   ],
   "source": [
    "ord('A')"
   ]
  },
  {
   "cell_type": "code",
   "execution_count": 40,
   "id": "f8891ff3",
   "metadata": {},
   "outputs": [
    {
     "data": {
      "text/plain": [
       "33"
      ]
     },
     "execution_count": 40,
     "metadata": {},
     "output_type": "execute_result"
    }
   ],
   "source": [
    "ord('!')"
   ]
  },
  {
   "cell_type": "code",
   "execution_count": 41,
   "id": "2e8d1440",
   "metadata": {},
   "outputs": [
    {
     "data": {
      "text/plain": [
       "'A'"
      ]
     },
     "execution_count": 41,
     "metadata": {},
     "output_type": "execute_result"
    }
   ],
   "source": [
    "chr(65)"
   ]
  },
  {
   "cell_type": "markdown",
   "id": "ba98a1a2",
   "metadata": {},
   "source": [
    "***These functions are useful when you need to do an ordering or mathematical operation on characters:"
   ]
  },
  {
   "cell_type": "code",
   "execution_count": 43,
   "id": "d292dd06",
   "metadata": {},
   "outputs": [
    {
     "data": {
      "text/plain": [
       "True"
      ]
     },
     "execution_count": 43,
     "metadata": {},
     "output_type": "execute_result"
    }
   ],
   "source": [
    "ord('A') < ord('B')"
   ]
  },
  {
   "cell_type": "code",
   "execution_count": 44,
   "id": "febc4f38",
   "metadata": {},
   "outputs": [
    {
     "data": {
      "text/plain": [
       "'B'"
      ]
     },
     "execution_count": 44,
     "metadata": {},
     "output_type": "execute_result"
    }
   ],
   "source": [
    " chr(ord('A') + 1)"
   ]
  },
  {
   "cell_type": "markdown",
   "id": "fbff5bb8",
   "metadata": {},
   "source": [
    "### Copying and Pasting Strings with the pyperclip Module\n",
    "The pyperclip module has copy() and paste() functions that can send text to and receive text from your computer’s clipboard.\n",
    "\n",
    "Sending the output of your program to the clipboard will make it easy to paste it into an email, word processor, or some other software."
   ]
  },
  {
   "cell_type": "raw",
   "id": "87d6a699",
   "metadata": {},
   "source": [
    "The pyperclip module does not come with Python. To install it, follow the directions for installing third-party modules"
   ]
  },
  {
   "cell_type": "raw",
   "id": "366a1f1c",
   "metadata": {},
   "source": [
    "import pyperclip\n",
    "pyperclip.copy('Hello, world!')\n",
    "pyperclip.paste()\n",
    "\n",
    "'Hello, world1'"
   ]
  },
  {
   "cell_type": "raw",
   "id": "c2d75ff1",
   "metadata": {},
   "source": [
    "Of course, if something outside of your program changes the clipboard contents, the paste() function will return it.\n",
    "For example, if I copied this sentence to the clipboard and then called paste(), it would look like this:\n",
    "    \n",
    ">>> pyperclip.paste()\n",
    "'For example, if I copied this sentence to the clipboard and then called \n",
    "paste(), it would look like this:'    "
   ]
  }
 ],
 "metadata": {
  "kernelspec": {
   "display_name": "Python 3 (ipykernel)",
   "language": "python",
   "name": "python3"
  },
  "language_info": {
   "codemirror_mode": {
    "name": "ipython",
    "version": 3
   },
   "file_extension": ".py",
   "mimetype": "text/x-python",
   "name": "python",
   "nbconvert_exporter": "python",
   "pygments_lexer": "ipython3",
   "version": "3.9.13"
  }
 },
 "nbformat": 4,
 "nbformat_minor": 5
}
